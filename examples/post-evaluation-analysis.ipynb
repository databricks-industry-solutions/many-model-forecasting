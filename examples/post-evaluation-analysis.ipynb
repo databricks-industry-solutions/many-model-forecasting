{
 "cells": [
  {
   "cell_type": "markdown",
   "metadata": {
    "application/vnd.databricks.v1+cell": {
     "cellMetadata": {
      "byteLimit": 2048000,
      "rowLimit": 10000
     },
     "inputWidgets": {},
     "nuid": "1e2ce813-1aee-44e9-9517-f98e63f23a4b",
     "showTitle": false,
     "tableResultSettingsMap": {},
     "title": ""
    }
   },
   "source": [
    "# Many Models Forecasting Demo\n",
    "\n",
    "This notebook demonstrates how to conduct fine-grained model selection after running the `mmf.run_forecast` function. Before proceeding, ensure you have run the notebooks in [`/examples/monthly`](https://github.com/databricks-industry-solutions/many-model-forecasting/tree/main/examples/monthly). You can run this notebook on a serverless compute."
   ]
  },
  {
   "cell_type": "code",
   "execution_count": 0,
   "metadata": {
    "application/vnd.databricks.v1+cell": {
     "cellMetadata": {
      "byteLimit": 2048000,
      "rowLimit": 10000
     },
     "inputWidgets": {},
     "nuid": "3bf99e2b-dcf8-44ca-a48b-37e162f1767f",
     "showTitle": false,
     "tableResultSettingsMap": {},
     "title": ""
    }
   },
   "outputs": [],
   "source": [
    "catalog = \"mmf\"  # Name of the catalog we use to manage our assets\n",
    "db = \"m4\"             # Name of the schema we use to manage our assets (e.g. datasets)"
   ]
  },
  {
   "cell_type": "markdown",
   "metadata": {
    "application/vnd.databricks.v1+cell": {
     "cellMetadata": {
      "byteLimit": 2048000,
      "rowLimit": 10000
     },
     "inputWidgets": {},
     "nuid": "8f004c3a-03ee-4a1a-9587-7e69e9cf505c",
     "showTitle": false,
     "tableResultSettingsMap": {},
     "title": ""
    }
   },
   "source": [
    "In the `scoring_output` table, forecasts for each time series from every model are stored. Let's filter by a specific time series (e.g., `M1`) and examine the forecasts from all models."
   ]
  },
  {
   "cell_type": "code",
   "execution_count": 0,
   "metadata": {
    "application/vnd.databricks.v1+cell": {
     "cellMetadata": {
      "byteLimit": 2048000,
      "implicitDf": true,
      "rowLimit": 10000
     },
     "inputWidgets": {},
     "nuid": "aa631669-768f-45b7-a149-398094efec3b",
     "showTitle": false,
     "tableResultSettingsMap": {},
     "title": ""
    }
   },
   "outputs": [
    {
     "output_type": "display_data",
     "data": {
      "text/html": [
       "<style scoped>\n",
       "  .table-result-container {\n",
       "    max-height: 300px;\n",
       "    overflow: auto;\n",
       "  }\n",
       "  table, th, td {\n",
       "    border: 1px solid black;\n",
       "    border-collapse: collapse;\n",
       "  }\n",
       "  th, td {\n",
       "    padding: 5px;\n",
       "  }\n",
       "  th {\n",
       "    text-align: left;\n",
       "  }\n",
       "</style><div class='table-result-container'><table class='table-result'><thead style='background-color: white'><tr><th>model</th><th>unique_id</th><th>date</th><th>y</th></tr></thead><tbody><tr><td>ChronosBoltBase</td><td>M1</td><td>List(2023-01-31T00:00:00.000Z, 2023-02-28T00:00:00.000Z, 2023-03-31T00:00:00.000Z)</td><td>List(7868.07421875, 8148.361328125, 8273.7529296875)</td></tr><tr><td>ChronosBoltMini</td><td>M1</td><td>List(2023-01-31T00:00:00.000Z, 2023-02-28T00:00:00.000Z, 2023-03-31T00:00:00.000Z)</td><td>List(7713.1787109375, 8089.353515625, 8089.353515625)</td></tr><tr><td>ChronosBoltSmall</td><td>M1</td><td>List(2023-01-31T00:00:00.000Z, 2023-02-28T00:00:00.000Z, 2023-03-31T00:00:00.000Z)</td><td>List(7735.306640625, 8148.361328125, 8192.6171875)</td></tr><tr><td>ChronosBoltTiny</td><td>M1</td><td>List(2023-01-31T00:00:00.000Z, 2023-02-28T00:00:00.000Z, 2023-03-31T00:00:00.000Z)</td><td>List(7576.7236328125, 8074.6015625, 8096.7294921875)</td></tr><tr><td>ChronosT5Base</td><td>M1</td><td>List(2023-01-31T00:00:00.000Z, 2023-02-28T00:00:00.000Z, 2023-03-31T00:00:00.000Z)</td><td>List(8243.611328125, 8316.99609375, 8732.845703125)</td></tr><tr><td>ChronosT5Large</td><td>M1</td><td>List(2023-01-31T00:00:00.000Z, 2023-02-28T00:00:00.000Z, 2023-03-31T00:00:00.000Z)</td><td>List(7876.68505859375, 7998.994140625, 8194.6875)</td></tr><tr><td>ChronosT5Mini</td><td>M1</td><td>List(2023-01-31T00:00:00.000Z, 2023-02-28T00:00:00.000Z, 2023-03-31T00:00:00.000Z)</td><td>List(7411.91162109375, 7974.5322265625, 8170.22607421875)</td></tr><tr><td>ChronosT5Small</td><td>M1</td><td>List(2023-01-31T00:00:00.000Z, 2023-02-28T00:00:00.000Z, 2023-03-31T00:00:00.000Z)</td><td>List(7680.99072265625, 8292.53515625, 8316.99609375)</td></tr><tr><td>ChronosT5Tiny</td><td>M1</td><td>List(2023-01-31T00:00:00.000Z, 2023-02-28T00:00:00.000Z, 2023-03-31T00:00:00.000Z)</td><td>List(7680.99072265625, 8072.37890625, 8194.6875)</td></tr><tr><td>MoiraiBase</td><td>M1</td><td>List(2023-01-31T00:00:00.000Z, 2023-02-28T00:00:00.000Z, 2023-03-31T00:00:00.000Z)</td><td>List(7296.91015625, 7600.63037109375, 7341.693359375)</td></tr><tr><td>MoiraiLarge</td><td>M1</td><td>List(2023-01-31T00:00:00.000Z, 2023-02-28T00:00:00.000Z, 2023-03-31T00:00:00.000Z)</td><td>List(7012.0322265625, 6733.0791015625, 7551.81201171875)</td></tr><tr><td>MoiraiMoEBase</td><td>M1</td><td>List(2023-01-31T00:00:00.000Z, 2023-02-28T00:00:00.000Z, 2023-03-31T00:00:00.000Z)</td><td>List(7994.818359375, 8975.103515625, 8466.9423828125)</td></tr><tr><td>MoiraiMoESmall</td><td>M1</td><td>List(2023-01-31T00:00:00.000Z, 2023-02-28T00:00:00.000Z, 2023-03-31T00:00:00.000Z)</td><td>List(8558.0830078125, 9610.7783203125, 8840.3681640625)</td></tr><tr><td>MoiraiSmall</td><td>M1</td><td>List(2023-01-31T00:00:00.000Z, 2023-02-28T00:00:00.000Z, 2023-03-31T00:00:00.000Z)</td><td>List(7314.32568359375, 7166.68115234375, 7176.630859375)</td></tr><tr><td>NeuralForecastAutoLSTM</td><td>M1</td><td>List(2023-01-31T00:00:00.000Z, 2023-02-28T00:00:00.000Z, 2023-03-31T00:00:00.000Z)</td><td>List(7271.62451171875, 7461.14892578125, 7595.716796875)</td></tr><tr><td>NeuralForecastAutoNBEATSx</td><td>M1</td><td>List(2023-01-31T00:00:00.000Z, 2023-02-28T00:00:00.000Z, 2023-03-31T00:00:00.000Z)</td><td>List(7202.14111328125, 7373.85400390625, 7471.19287109375)</td></tr><tr><td>NeuralForecastAutoNHITS</td><td>M1</td><td>List(2023-01-31T00:00:00.000Z, 2023-02-28T00:00:00.000Z, 2023-03-31T00:00:00.000Z)</td><td>List(7081.82958984375, 7152.40185546875, 7216.50927734375)</td></tr><tr><td>NeuralForecastAutoPatchTST</td><td>M1</td><td>List(2023-01-31T00:00:00.000Z, 2023-02-28T00:00:00.000Z, 2023-03-31T00:00:00.000Z)</td><td>List(7305.91162109375, 7430.49462890625, 7563.0107421875)</td></tr><tr><td>NeuralForecastAutoRNN</td><td>M1</td><td>List(2023-01-31T00:00:00.000Z, 2023-02-28T00:00:00.000Z, 2023-03-31T00:00:00.000Z)</td><td>List(7824.8603515625, 8140.36181640625, 8546.66796875)</td></tr><tr><td>NeuralForecastAutoTiDE</td><td>M1</td><td>List(2023-01-31T00:00:00.000Z, 2023-02-28T00:00:00.000Z, 2023-03-31T00:00:00.000Z)</td><td>List(7129.9072265625, 7266.56787109375, 7375.93359375)</td></tr><tr><td>NeuralForecastLSTM</td><td>M1</td><td>List(2023-01-31T00:00:00.000Z, 2023-02-28T00:00:00.000Z, 2023-03-31T00:00:00.000Z)</td><td>List(6348.13818359375, 6191.38134765625, 6074.60400390625)</td></tr><tr><td>NeuralForecastNBEATSx</td><td>M1</td><td>List(2023-01-31T00:00:00.000Z, 2023-02-28T00:00:00.000Z, 2023-03-31T00:00:00.000Z)</td><td>List(7281.6943359375, 7352.5048828125, 7675.826171875)</td></tr><tr><td>NeuralForecastNHITS</td><td>M1</td><td>List(2023-01-31T00:00:00.000Z, 2023-02-28T00:00:00.000Z, 2023-03-31T00:00:00.000Z)</td><td>List(7214.07177734375, 7395.7412109375, 7649.75537109375)</td></tr><tr><td>NeuralForecastRNN</td><td>M1</td><td>List(2023-01-31T00:00:00.000Z, 2023-02-28T00:00:00.000Z, 2023-03-31T00:00:00.000Z)</td><td>List(7018.908203125, 7029.73876953125, 6097.23095703125)</td></tr><tr><td>SKTimeProphet</td><td>M1</td><td>List(2023-01-31T00:00:00.000Z, 2023-02-28T00:00:00.000Z, 2023-03-31T00:00:00.000Z)</td><td>List(8506.685254588756, 8580.63398046615, 9147.60523439392)</td></tr><tr><td>StatsForecastADIDA</td><td>M1</td><td>List(2023-01-31T00:00:00.000Z, 2023-02-28T00:00:00.000Z, 2023-03-31T00:00:00.000Z)</td><td>List(6895.086471864072, 6895.086471864072, 6895.086471864072)</td></tr><tr><td>StatsForecastAutoArima</td><td>M1</td><td>List(2023-01-31T00:00:00.000Z, 2023-02-28T00:00:00.000Z, 2023-03-31T00:00:00.000Z)</td><td>List(6836.394157616497, 6795.076436767502, 6768.236857380085)</td></tr><tr><td>StatsForecastAutoCES</td><td>M1</td><td>List(2023-01-31T00:00:00.000Z, 2023-02-28T00:00:00.000Z, 2023-03-31T00:00:00.000Z)</td><td>List(6389.997329711914, 6575.778881072998, 6351.451019287109)</td></tr><tr><td>StatsForecastAutoETS</td><td>M1</td><td>List(2023-01-31T00:00:00.000Z, 2023-02-28T00:00:00.000Z, 2023-03-31T00:00:00.000Z)</td><td>List(6883.808830367018, 6883.808830367018, 6883.808830367018)</td></tr><tr><td>StatsForecastAutoMfles</td><td>M1</td><td>List(2023-01-31T00:00:00.000Z, 2023-02-28T00:00:00.000Z, 2023-03-31T00:00:00.000Z)</td><td>List(6868.20636619096, 6868.20636619096, 6868.20636619096)</td></tr><tr><td>StatsForecastAutoTbats</td><td>M1</td><td>List(2023-01-31T00:00:00.000Z, 2023-02-28T00:00:00.000Z, 2023-03-31T00:00:00.000Z)</td><td>List(6671.626080864037, 6498.915051452199, 6435.387788895978)</td></tr><tr><td>StatsForecastAutoTheta</td><td>M1</td><td>List(2023-01-31T00:00:00.000Z, 2023-02-28T00:00:00.000Z, 2023-03-31T00:00:00.000Z)</td><td>List(6875.85107421875, 6870.95361328125, 6866.05615234375)</td></tr><tr><td>StatsForecastBaselineNaive</td><td>M1</td><td>List(2023-01-31T00:00:00.000Z, 2023-02-28T00:00:00.000Z, 2023-03-31T00:00:00.000Z)</td><td>List(6900.0, 6900.0, 6900.0)</td></tr><tr><td>StatsForecastBaselineSeasonalNaive</td><td>M1</td><td>List(2023-01-31T00:00:00.000Z, 2023-02-28T00:00:00.000Z, 2023-03-31T00:00:00.000Z)</td><td>List(6710.0, 6220.0, 7430.0)</td></tr><tr><td>StatsForecastBaselineSeasonalWindowAverage</td><td>M1</td><td>List(2023-01-31T00:00:00.000Z, 2023-02-28T00:00:00.000Z, 2023-03-31T00:00:00.000Z)</td><td>List(6285.714285714285, 6655.714285714285, 6454.285714285715)</td></tr><tr><td>StatsForecastBaselineWindowAverage</td><td>M1</td><td>List(2023-01-31T00:00:00.000Z, 2023-02-28T00:00:00.000Z, 2023-03-31T00:00:00.000Z)</td><td>List(6797.142857142857, 6797.142857142857, 6797.142857142857)</td></tr><tr><td>StatsForecastCrostonClassic</td><td>M1</td><td>List(2023-01-31T00:00:00.000Z, 2023-02-28T00:00:00.000Z, 2023-03-31T00:00:00.000Z)</td><td>List(6830.004154964351, 6830.004154964351, 6830.004154964351)</td></tr><tr><td>StatsForecastCrostonOptimized</td><td>M1</td><td>List(2023-01-31T00:00:00.000Z, 2023-02-28T00:00:00.000Z, 2023-03-31T00:00:00.000Z)</td><td>List(6895.086471864072, 6895.086471864072, 6895.086471864072)</td></tr><tr><td>StatsForecastCrostonSBA</td><td>M1</td><td>List(2023-01-31T00:00:00.000Z, 2023-02-28T00:00:00.000Z, 2023-03-31T00:00:00.000Z)</td><td>List(6488.503947216133, 6488.503947216133, 6488.503947216133)</td></tr><tr><td>StatsForecastIMAPA</td><td>M1</td><td>List(2023-01-31T00:00:00.000Z, 2023-02-28T00:00:00.000Z, 2023-03-31T00:00:00.000Z)</td><td>List(6895.086471864072, 6895.086471864072, 6895.086471864072)</td></tr><tr><td>StatsForecastTSB</td><td>M1</td><td>List(2023-01-31T00:00:00.000Z, 2023-02-28T00:00:00.000Z, 2023-03-31T00:00:00.000Z)</td><td>List(6915.431930876617, 6915.431930876617, 6915.431930876617)</td></tr><tr><td>TimesFM_1_0_200m</td><td>M1</td><td>List(2023-01-31T00:00:00.000Z, 2023-02-28T00:00:00.000Z, 2023-03-31T00:00:00.000Z)</td><td>List(8331.583984375, 8555.990234375, 8797.9638671875)</td></tr><tr><td>TimesFM_2_0_500m</td><td>M1</td><td>List(2023-01-31T00:00:00.000Z, 2023-02-28T00:00:00.000Z, 2023-03-31T00:00:00.000Z)</td><td>List(7907.1142578125, 8183.9296875, 8379.12109375)</td></tr></tbody></table></div>"
      ]
     },
     "metadata": {
      "application/vnd.databricks.v1+output": {
       "addedWidgets": {},
       "aggData": [],
       "aggError": "",
       "aggOverflow": false,
       "aggSchema": [],
       "aggSeriesLimitReached": false,
       "aggType": "",
       "arguments": {},
       "columnCustomDisplayInfos": {},
       "data": [
        [
         "ChronosBoltBase",
         "M1",
         [
          "2023-01-31T00:00:00.000Z",
          "2023-02-28T00:00:00.000Z",
          "2023-03-31T00:00:00.000Z"
         ],
         [
          7868.07421875,
          8148.361328125,
          8273.7529296875
         ]
        ],
        [
         "ChronosBoltMini",
         "M1",
         [
          "2023-01-31T00:00:00.000Z",
          "2023-02-28T00:00:00.000Z",
          "2023-03-31T00:00:00.000Z"
         ],
         [
          7713.1787109375,
          8089.353515625,
          8089.353515625
         ]
        ],
        [
         "ChronosBoltSmall",
         "M1",
         [
          "2023-01-31T00:00:00.000Z",
          "2023-02-28T00:00:00.000Z",
          "2023-03-31T00:00:00.000Z"
         ],
         [
          7735.306640625,
          8148.361328125,
          8192.6171875
         ]
        ],
        [
         "ChronosBoltTiny",
         "M1",
         [
          "2023-01-31T00:00:00.000Z",
          "2023-02-28T00:00:00.000Z",
          "2023-03-31T00:00:00.000Z"
         ],
         [
          7576.7236328125,
          8074.6015625,
          8096.7294921875
         ]
        ],
        [
         "ChronosT5Base",
         "M1",
         [
          "2023-01-31T00:00:00.000Z",
          "2023-02-28T00:00:00.000Z",
          "2023-03-31T00:00:00.000Z"
         ],
         [
          8243.611328125,
          8316.99609375,
          8732.845703125
         ]
        ],
        [
         "ChronosT5Large",
         "M1",
         [
          "2023-01-31T00:00:00.000Z",
          "2023-02-28T00:00:00.000Z",
          "2023-03-31T00:00:00.000Z"
         ],
         [
          7876.68505859375,
          7998.994140625,
          8194.6875
         ]
        ],
        [
         "ChronosT5Mini",
         "M1",
         [
          "2023-01-31T00:00:00.000Z",
          "2023-02-28T00:00:00.000Z",
          "2023-03-31T00:00:00.000Z"
         ],
         [
          7411.91162109375,
          7974.5322265625,
          8170.22607421875
         ]
        ],
        [
         "ChronosT5Small",
         "M1",
         [
          "2023-01-31T00:00:00.000Z",
          "2023-02-28T00:00:00.000Z",
          "2023-03-31T00:00:00.000Z"
         ],
         [
          7680.99072265625,
          8292.53515625,
          8316.99609375
         ]
        ],
        [
         "ChronosT5Tiny",
         "M1",
         [
          "2023-01-31T00:00:00.000Z",
          "2023-02-28T00:00:00.000Z",
          "2023-03-31T00:00:00.000Z"
         ],
         [
          7680.99072265625,
          8072.37890625,
          8194.6875
         ]
        ],
        [
         "MoiraiBase",
         "M1",
         [
          "2023-01-31T00:00:00.000Z",
          "2023-02-28T00:00:00.000Z",
          "2023-03-31T00:00:00.000Z"
         ],
         [
          7296.91015625,
          7600.63037109375,
          7341.693359375
         ]
        ],
        [
         "MoiraiLarge",
         "M1",
         [
          "2023-01-31T00:00:00.000Z",
          "2023-02-28T00:00:00.000Z",
          "2023-03-31T00:00:00.000Z"
         ],
         [
          7012.0322265625,
          6733.0791015625,
          7551.81201171875
         ]
        ],
        [
         "MoiraiMoEBase",
         "M1",
         [
          "2023-01-31T00:00:00.000Z",
          "2023-02-28T00:00:00.000Z",
          "2023-03-31T00:00:00.000Z"
         ],
         [
          7994.818359375,
          8975.103515625,
          8466.9423828125
         ]
        ],
        [
         "MoiraiMoESmall",
         "M1",
         [
          "2023-01-31T00:00:00.000Z",
          "2023-02-28T00:00:00.000Z",
          "2023-03-31T00:00:00.000Z"
         ],
         [
          8558.0830078125,
          9610.7783203125,
          8840.3681640625
         ]
        ],
        [
         "MoiraiSmall",
         "M1",
         [
          "2023-01-31T00:00:00.000Z",
          "2023-02-28T00:00:00.000Z",
          "2023-03-31T00:00:00.000Z"
         ],
         [
          7314.32568359375,
          7166.68115234375,
          7176.630859375
         ]
        ],
        [
         "NeuralForecastAutoLSTM",
         "M1",
         [
          "2023-01-31T00:00:00.000Z",
          "2023-02-28T00:00:00.000Z",
          "2023-03-31T00:00:00.000Z"
         ],
         [
          7271.62451171875,
          7461.14892578125,
          7595.716796875
         ]
        ],
        [
         "NeuralForecastAutoNBEATSx",
         "M1",
         [
          "2023-01-31T00:00:00.000Z",
          "2023-02-28T00:00:00.000Z",
          "2023-03-31T00:00:00.000Z"
         ],
         [
          7202.14111328125,
          7373.85400390625,
          7471.19287109375
         ]
        ],
        [
         "NeuralForecastAutoNHITS",
         "M1",
         [
          "2023-01-31T00:00:00.000Z",
          "2023-02-28T00:00:00.000Z",
          "2023-03-31T00:00:00.000Z"
         ],
         [
          7081.82958984375,
          7152.40185546875,
          7216.50927734375
         ]
        ],
        [
         "NeuralForecastAutoPatchTST",
         "M1",
         [
          "2023-01-31T00:00:00.000Z",
          "2023-02-28T00:00:00.000Z",
          "2023-03-31T00:00:00.000Z"
         ],
         [
          7305.91162109375,
          7430.49462890625,
          7563.0107421875
         ]
        ],
        [
         "NeuralForecastAutoRNN",
         "M1",
         [
          "2023-01-31T00:00:00.000Z",
          "2023-02-28T00:00:00.000Z",
          "2023-03-31T00:00:00.000Z"
         ],
         [
          7824.8603515625,
          8140.36181640625,
          8546.66796875
         ]
        ],
        [
         "NeuralForecastAutoTiDE",
         "M1",
         [
          "2023-01-31T00:00:00.000Z",
          "2023-02-28T00:00:00.000Z",
          "2023-03-31T00:00:00.000Z"
         ],
         [
          7129.9072265625,
          7266.56787109375,
          7375.93359375
         ]
        ],
        [
         "NeuralForecastLSTM",
         "M1",
         [
          "2023-01-31T00:00:00.000Z",
          "2023-02-28T00:00:00.000Z",
          "2023-03-31T00:00:00.000Z"
         ],
         [
          6348.13818359375,
          6191.38134765625,
          6074.60400390625
         ]
        ],
        [
         "NeuralForecastNBEATSx",
         "M1",
         [
          "2023-01-31T00:00:00.000Z",
          "2023-02-28T00:00:00.000Z",
          "2023-03-31T00:00:00.000Z"
         ],
         [
          7281.6943359375,
          7352.5048828125,
          7675.826171875
         ]
        ],
        [
         "NeuralForecastNHITS",
         "M1",
         [
          "2023-01-31T00:00:00.000Z",
          "2023-02-28T00:00:00.000Z",
          "2023-03-31T00:00:00.000Z"
         ],
         [
          7214.07177734375,
          7395.7412109375,
          7649.75537109375
         ]
        ],
        [
         "NeuralForecastRNN",
         "M1",
         [
          "2023-01-31T00:00:00.000Z",
          "2023-02-28T00:00:00.000Z",
          "2023-03-31T00:00:00.000Z"
         ],
         [
          7018.908203125,
          7029.73876953125,
          6097.23095703125
         ]
        ],
        [
         "SKTimeProphet",
         "M1",
         [
          "2023-01-31T00:00:00.000Z",
          "2023-02-28T00:00:00.000Z",
          "2023-03-31T00:00:00.000Z"
         ],
         [
          8506.685254588756,
          8580.63398046615,
          9147.60523439392
         ]
        ],
        [
         "StatsForecastADIDA",
         "M1",
         [
          "2023-01-31T00:00:00.000Z",
          "2023-02-28T00:00:00.000Z",
          "2023-03-31T00:00:00.000Z"
         ],
         [
          6895.086471864072,
          6895.086471864072,
          6895.086471864072
         ]
        ],
        [
         "StatsForecastAutoArima",
         "M1",
         [
          "2023-01-31T00:00:00.000Z",
          "2023-02-28T00:00:00.000Z",
          "2023-03-31T00:00:00.000Z"
         ],
         [
          6836.394157616497,
          6795.076436767502,
          6768.236857380085
         ]
        ],
        [
         "StatsForecastAutoCES",
         "M1",
         [
          "2023-01-31T00:00:00.000Z",
          "2023-02-28T00:00:00.000Z",
          "2023-03-31T00:00:00.000Z"
         ],
         [
          6389.997329711914,
          6575.778881072998,
          6351.451019287109
         ]
        ],
        [
         "StatsForecastAutoETS",
         "M1",
         [
          "2023-01-31T00:00:00.000Z",
          "2023-02-28T00:00:00.000Z",
          "2023-03-31T00:00:00.000Z"
         ],
         [
          6883.808830367018,
          6883.808830367018,
          6883.808830367018
         ]
        ],
        [
         "StatsForecastAutoMfles",
         "M1",
         [
          "2023-01-31T00:00:00.000Z",
          "2023-02-28T00:00:00.000Z",
          "2023-03-31T00:00:00.000Z"
         ],
         [
          6868.20636619096,
          6868.20636619096,
          6868.20636619096
         ]
        ],
        [
         "StatsForecastAutoTbats",
         "M1",
         [
          "2023-01-31T00:00:00.000Z",
          "2023-02-28T00:00:00.000Z",
          "2023-03-31T00:00:00.000Z"
         ],
         [
          6671.626080864037,
          6498.915051452199,
          6435.387788895978
         ]
        ],
        [
         "StatsForecastAutoTheta",
         "M1",
         [
          "2023-01-31T00:00:00.000Z",
          "2023-02-28T00:00:00.000Z",
          "2023-03-31T00:00:00.000Z"
         ],
         [
          6875.85107421875,
          6870.95361328125,
          6866.05615234375
         ]
        ],
        [
         "StatsForecastBaselineNaive",
         "M1",
         [
          "2023-01-31T00:00:00.000Z",
          "2023-02-28T00:00:00.000Z",
          "2023-03-31T00:00:00.000Z"
         ],
         [
          6900.0,
          6900.0,
          6900.0
         ]
        ],
        [
         "StatsForecastBaselineSeasonalNaive",
         "M1",
         [
          "2023-01-31T00:00:00.000Z",
          "2023-02-28T00:00:00.000Z",
          "2023-03-31T00:00:00.000Z"
         ],
         [
          6710.0,
          6220.0,
          7430.0
         ]
        ],
        [
         "StatsForecastBaselineSeasonalWindowAverage",
         "M1",
         [
          "2023-01-31T00:00:00.000Z",
          "2023-02-28T00:00:00.000Z",
          "2023-03-31T00:00:00.000Z"
         ],
         [
          6285.714285714285,
          6655.714285714285,
          6454.285714285715
         ]
        ],
        [
         "StatsForecastBaselineWindowAverage",
         "M1",
         [
          "2023-01-31T00:00:00.000Z",
          "2023-02-28T00:00:00.000Z",
          "2023-03-31T00:00:00.000Z"
         ],
         [
          6797.142857142857,
          6797.142857142857,
          6797.142857142857
         ]
        ],
        [
         "StatsForecastCrostonClassic",
         "M1",
         [
          "2023-01-31T00:00:00.000Z",
          "2023-02-28T00:00:00.000Z",
          "2023-03-31T00:00:00.000Z"
         ],
         [
          6830.004154964351,
          6830.004154964351,
          6830.004154964351
         ]
        ],
        [
         "StatsForecastCrostonOptimized",
         "M1",
         [
          "2023-01-31T00:00:00.000Z",
          "2023-02-28T00:00:00.000Z",
          "2023-03-31T00:00:00.000Z"
         ],
         [
          6895.086471864072,
          6895.086471864072,
          6895.086471864072
         ]
        ],
        [
         "StatsForecastCrostonSBA",
         "M1",
         [
          "2023-01-31T00:00:00.000Z",
          "2023-02-28T00:00:00.000Z",
          "2023-03-31T00:00:00.000Z"
         ],
         [
          6488.503947216133,
          6488.503947216133,
          6488.503947216133
         ]
        ],
        [
         "StatsForecastIMAPA",
         "M1",
         [
          "2023-01-31T00:00:00.000Z",
          "2023-02-28T00:00:00.000Z",
          "2023-03-31T00:00:00.000Z"
         ],
         [
          6895.086471864072,
          6895.086471864072,
          6895.086471864072
         ]
        ],
        [
         "StatsForecastTSB",
         "M1",
         [
          "2023-01-31T00:00:00.000Z",
          "2023-02-28T00:00:00.000Z",
          "2023-03-31T00:00:00.000Z"
         ],
         [
          6915.431930876617,
          6915.431930876617,
          6915.431930876617
         ]
        ],
        [
         "TimesFM_1_0_200m",
         "M1",
         [
          "2023-01-31T00:00:00.000Z",
          "2023-02-28T00:00:00.000Z",
          "2023-03-31T00:00:00.000Z"
         ],
         [
          8331.583984375,
          8555.990234375,
          8797.9638671875
         ]
        ],
        [
         "TimesFM_2_0_500m",
         "M1",
         [
          "2023-01-31T00:00:00.000Z",
          "2023-02-28T00:00:00.000Z",
          "2023-03-31T00:00:00.000Z"
         ],
         [
          7907.1142578125,
          8183.9296875,
          8379.12109375
         ]
        ]
       ],
       "datasetInfos": [],
       "dbfsResultPath": null,
       "isJsonSchema": true,
       "metadata": {},
       "overflow": false,
       "plotOptions": {
        "customPlotOptions": {},
        "displayType": "table",
        "pivotAggregation": null,
        "pivotColumns": null,
        "xColumns": null,
        "yColumns": null
       },
       "removedWidgets": [],
       "schema": [
        {
         "metadata": "{}",
         "name": "model",
         "type": "\"string\""
        },
        {
         "metadata": "{}",
         "name": "unique_id",
         "type": "\"string\""
        },
        {
         "metadata": "{}",
         "name": "date",
         "type": "{\"containsNull\":true,\"elementType\":\"timestamp\",\"type\":\"array\"}"
        },
        {
         "metadata": "{}",
         "name": "y",
         "type": "{\"containsNull\":true,\"elementType\":\"double\",\"type\":\"array\"}"
        }
       ],
       "type": "table"
      }
     },
     "output_type": "display_data"
    }
   ],
   "source": [
    "scoring_output =  spark.sql(f\"\"\"\n",
    "    SELECT model, unique_id, date, y FROM {catalog}.{db}.monthly_scoring_output \n",
    "    WHERE unique_id='M1' ORDER BY model\n",
    "    \"\"\")\n",
    "\n",
    "display(scoring_output)"
   ]
  },
  {
   "cell_type": "markdown",
   "metadata": {
    "application/vnd.databricks.v1+cell": {
     "cellMetadata": {
      "byteLimit": 2048000,
      "rowLimit": 10000
     },
     "inputWidgets": {},
     "nuid": "768b3d5c-f351-43b1-b49a-6356df69a2dd",
     "showTitle": false,
     "tableResultSettingsMap": {},
     "title": ""
    }
   },
   "source": [
    "This table contains forecasts from 44 different models, but we need to determine which one is best for making business decisions. This is where the `evaluation_output` table becomes useful. Let's filter by a specific time series (e.g., `M1`) and review the evaluation results (i.e., backtesting trials) from all models."
   ]
  },
  {
   "cell_type": "code",
   "execution_count": 0,
   "metadata": {
    "application/vnd.databricks.v1+cell": {
     "cellMetadata": {
      "byteLimit": 2048000,
      "implicitDf": true,
      "rowLimit": 10000
     },
     "inputWidgets": {},
     "nuid": "cb2c82f8-7690-47a5-98c2-ee3368dcc027",
     "showTitle": false,
     "tableResultSettingsMap": {
      "0": {
       "dataGridStateBlob": "{\"version\":1,\"tableState\":{\"columnPinning\":{\"left\":[\"#row_number#\"],\"right\":[]},\"columnSizing\":{\"actual\":380,\"model\":221},\"columnVisibility\":{}},\"settings\":{\"columns\":{}},\"syncTimestamp\":1753269703131}",
       "filterBlob": null,
       "queryPlanFiltersBlob": null,
       "tableResultIndex": 0
      }
     },
     "title": ""
    }
   },
   "outputs": [
    {
     "output_type": "display_data",
     "data": {
      "text/html": [
       "<style scoped>\n",
       "  .table-result-container {\n",
       "    max-height: 300px;\n",
       "    overflow: auto;\n",
       "  }\n",
       "  table, th, td {\n",
       "    border: 1px solid black;\n",
       "    border-collapse: collapse;\n",
       "  }\n",
       "  th, td {\n",
       "    padding: 5px;\n",
       "  }\n",
       "  th {\n",
       "    text-align: left;\n",
       "  }\n",
       "</style><div class='table-result-container'><table class='table-result'><thead style='background-color: white'><tr><th>model</th><th>unique_id</th><th>backtest_window_start_date</th><th>metric_name</th><th>metric_value</th><th>forecast</th><th>actual</th></tr></thead><tbody><tr><td>ChronosBoltBase</td><td>M1</td><td>2022-01-31T00:00:00.000Z</td><td>smape</td><td>0.05042952641046792</td><td>List(7594.50390625, 7896.99853515625, 7844.06201171875)</td><td>List(6950.0, 7820.0, 8270.0)</td></tr><tr><td>ChronosBoltBase</td><td>M1</td><td>2022-02-28T00:00:00.000Z</td><td>smape</td><td>0.05221719566183658</td><td>List(7668.8759765625, 7713.8662109375, 7327.70458984375)</td><td>List(7820.0, 8270.0, 7840.0)</td></tr><tr><td>ChronosBoltBase</td><td>M1</td><td>2022-03-31T00:00:00.000Z</td><td>smape</td><td>0.07572981533845291</td><td>List(7875.84765625, 7452.966796875, 6907.37548828125)</td><td>List(8270.0, 7840.0, 7850.0)</td></tr><tr><td>ChronosBoltBase</td><td>M1</td><td>2022-04-30T00:00:00.000Z</td><td>smape</td><td>0.060044254983780465</td><td>List(7672.60888671875, 6998.9775390625, 6421.57958984375)</td><td>List(7840.0, 7850.0, 6710.0)</td></tr><tr><td>ChronosBoltBase</td><td>M1</td><td>2022-05-31T00:00:00.000Z</td><td>smape</td><td>0.05116555096731529</td><td>List(7012.98828125, 6475.2255859375, 6252.76953125)</td><td>List(7850.0, 6710.0, 6220.0)</td></tr><tr><td>ChronosBoltBase</td><td>M1</td><td>2022-06-30T00:00:00.000Z</td><td>smape</td><td>0.07144781940611789</td><td>List(6952.1474609375, 6687.51806640625, 6679.01708984375)</td><td>List(6710.0, 6220.0, 7430.0)</td></tr><tr><td>ChronosBoltBase</td><td>M1</td><td>2022-07-31T00:00:00.000Z</td><td>smape</td><td>0.059980482722501</td><td>List(6338.2109375, 6498.95703125, 6382.48828125)</td><td>List(6220.0, 7430.0, 6560.0)</td></tr><tr><td>ChronosBoltBase</td><td>M1</td><td>2022-08-31T00:00:00.000Z</td><td>smape</td><td>0.12520473098507656</td><td>List(6407.12939453125, 6317.31494140625, 5851.04638671875)</td><td>List(7430.0, 6560.0, 7080.0)</td></tr><tr><td>ChronosBoltBase</td><td>M1</td><td>2022-09-30T00:00:00.000Z</td><td>smape</td><td>0.11749889733742391</td><td>List(6879.9130859375, 6284.75048828125, 5543.8916015625)</td><td>List(6560.0, 7080.0, 6680.0)</td></tr><tr><td>ChronosBoltBase</td><td>M1</td><td>2022-10-31T00:00:00.000Z</td><td>smape</td><td>0.16489380327946612</td><td>List(6084.2236328125, 5551.828125, 5884.103515625)</td><td>List(7080.0, 6680.0, 6900.0)</td></tr><tr><td>MoiraiMoEBase</td><td>M1</td><td>2022-01-31T00:00:00.000Z</td><td>smape</td><td>0.05399276351157991</td><td>List(7300.6826171875, 7773.40625, 7431.642578125)</td><td>List(6950.0, 7820.0, 8270.0)</td></tr><tr><td>MoiraiMoEBase</td><td>M1</td><td>2022-02-28T00:00:00.000Z</td><td>smape</td><td>0.11211351212924292</td><td>List(7904.310546875, 7123.4091796875, 6567.4921875)</td><td>List(7820.0, 8270.0, 7840.0)</td></tr><tr><td>MoiraiMoEBase</td><td>M1</td><td>2022-03-31T00:00:00.000Z</td><td>smape</td><td>0.11185366844415352</td><td>List(7969.001953125, 6881.31591796875, 6631.75390625)</td><td>List(8270.0, 7840.0, 7850.0)</td></tr><tr><td>MoiraiMoEBase</td><td>M1</td><td>2022-04-30T00:00:00.000Z</td><td>smape</td><td>0.05239146738905517</td><td>List(7888.8017578125, 6885.70703125, 6846.17578125)</td><td>List(7840.0, 7850.0, 6710.0)</td></tr><tr><td>MoiraiMoEBase</td><td>M1</td><td>2022-05-31T00:00:00.000Z</td><td>smape</td><td>0.07773136425202394</td><td>List(7166.85986328125, 6936.296875, 6937.37255859375)</td><td>List(7850.0, 6710.0, 6220.0)</td></tr><tr><td>MoiraiMoEBase</td><td>M1</td><td>2022-06-30T00:00:00.000Z</td><td>smape</td><td>0.05612742665830502</td><td>List(7000.54296875, 6880.8466796875, 7245.71875)</td><td>List(6710.0, 6220.0, 7430.0)</td></tr><tr><td>MoiraiMoEBase</td><td>M1</td><td>2022-07-31T00:00:00.000Z</td><td>smape</td><td>0.1065004982745209</td><td>List(6636.296875, 6672.072265625, 7602.7177734375)</td><td>List(6220.0, 7430.0, 6560.0)</td></tr><tr><td>MoiraiMoEBase</td><td>M1</td><td>2022-08-31T00:00:00.000Z</td><td>smape</td><td>0.11066614287043867</td><td>List(6547.025390625, 6300.7119140625, 5998.841796875)</td><td>List(7430.0, 6560.0, 7080.0)</td></tr><tr><td>MoiraiMoEBase</td><td>M1</td><td>2022-09-30T00:00:00.000Z</td><td>smape</td><td>0.054833080040392286</td><td>List(6870.330078125, 6352.71044921875, 6747.1328125)</td><td>List(6560.0, 7080.0, 6680.0)</td></tr><tr><td>MoiraiMoEBase</td><td>M1</td><td>2022-10-31T00:00:00.000Z</td><td>smape</td><td>0.05953325147206628</td><td>List(6354.3994140625, 6265.98046875, 6854.49072265625)</td><td>List(7080.0, 6680.0, 6900.0)</td></tr><tr><td>NeuralForecastAutoNHITS</td><td>M1</td><td>2022-01-31T00:00:00.000Z</td><td>smape</td><td>0.23000988880832027</td><td>List(6060.2099609375, 6079.99169921875, 6094.5888671875)</td><td>List(6950.0, 7820.0, 8270.0)</td></tr><tr><td>NeuralForecastAutoNHITS</td><td>M1</td><td>2022-02-28T00:00:00.000Z</td><td>smape</td><td>0.11092140373711858</td><td>List(7079.1640625, 7145.78662109375, 7183.00390625)</td><td>List(7820.0, 8270.0, 7840.0)</td></tr><tr><td>NeuralForecastAutoNHITS</td><td>M1</td><td>2022-03-31T00:00:00.000Z</td><td>smape</td><td>0.07152717644082973</td><td>List(8299.205078125, 8628.078125, 8810.8876953125)</td><td>List(8270.0, 7840.0, 7850.0)</td></tr><tr><td>NeuralForecastAutoNHITS</td><td>M1</td><td>2022-04-30T00:00:00.000Z</td><td>smape</td><td>0.19829960011184253</td><td>List(8606.4873046875, 9228.9736328125, 9460.6904296875)</td><td>List(7840.0, 7850.0, 6710.0)</td></tr><tr><td>NeuralForecastAutoNHITS</td><td>M1</td><td>2022-05-31T00:00:00.000Z</td><td>smape</td><td>0.148649822230684</td><td>List(7963.49462890625, 8010.68994140625, 8036.89453125)</td><td>List(7850.0, 6710.0, 6220.0)</td></tr><tr><td>NeuralForecastAutoNHITS</td><td>M1</td><td>2022-06-30T00:00:00.000Z</td><td>smape</td><td>0.18125924216406145</td><td>List(8039.5234375, 8134.46826171875, 8185.44189453125)</td><td>List(6710.0, 6220.0, 7430.0)</td></tr><tr><td>NeuralForecastAutoNHITS</td><td>M1</td><td>2022-07-31T00:00:00.000Z</td><td>smape</td><td>0.07733885997165223</td><td>List(6878.12939453125, 6969.8125, 7019.0302734375)</td><td>List(6220.0, 7430.0, 6560.0)</td></tr><tr><td>NeuralForecastAutoNHITS</td><td>M1</td><td>2022-08-31T00:00:00.000Z</td><td>smape</td><td>0.1106789023221746</td><td>List(6438.060546875, 7269.20703125, 7719.45751953125)</td><td>List(7430.0, 6560.0, 7080.0)</td></tr><tr><td>NeuralForecastAutoNHITS</td><td>M1</td><td>2022-09-30T00:00:00.000Z</td><td>smape</td><td>0.23561063150187153</td><td>List(7916.3125, 8725.5625, 9142.095703125)</td><td>List(6560.0, 7080.0, 6680.0)</td></tr><tr><td>NeuralForecastAutoNHITS</td><td>M1</td><td>2022-10-31T00:00:00.000Z</td><td>smape</td><td>0.045054370390331167</td><td>List(6973.453125, 7151.8203125, 7266.76025390625)</td><td>List(7080.0, 6680.0, 6900.0)</td></tr><tr><td>NeuralForecastAutoRNN</td><td>M1</td><td>2022-01-31T00:00:00.000Z</td><td>smape</td><td>0.06588747210128865</td><td>List(6598.82373046875, 7355.7509765625, 7598.44140625)</td><td>List(6950.0, 7820.0, 8270.0)</td></tr><tr><td>NeuralForecastAutoRNN</td><td>M1</td><td>2022-02-28T00:00:00.000Z</td><td>smape</td><td>0.041121429584184604</td><td>List(7447.81640625, 7871.56640625, 7644.5625)</td><td>List(7820.0, 8270.0, 7840.0)</td></tr><tr><td>NeuralForecastAutoRNN</td><td>M1</td><td>2022-03-31T00:00:00.000Z</td><td>smape</td><td>0.03554169754805652</td><td>List(8008.5849609375, 7846.18896484375, 7291.8828125)</td><td>List(8270.0, 7840.0, 7850.0)</td></tr><tr><td>NeuralForecastAutoRNN</td><td>M1</td><td>2022-04-30T00:00:00.000Z</td><td>smape</td><td>0.036862333131074766</td><td>List(8118.56884765625, 7567.56787109375, 6977.158203125)</td><td>List(7840.0, 7850.0, 6710.0)</td></tr><tr><td>NeuralForecastAutoRNN</td><td>M1</td><td>2022-05-31T00:00:00.000Z</td><td>smape</td><td>0.03767095734735159</td><td>List(7520.36962890625, 7037.04736328125, 6361.7998046875)</td><td>List(7850.0, 6710.0, 6220.0)</td></tr><tr><td>NeuralForecastAutoRNN</td><td>M1</td><td>2022-06-30T00:00:00.000Z</td><td>smape</td><td>0.10206201094068927</td><td>List(7568.46826171875, 7318.8857421875, 7256.63037109375)</td><td>List(6710.0, 6220.0, 7430.0)</td></tr><tr><td>NeuralForecastAutoRNN</td><td>M1</td><td>2022-07-31T00:00:00.000Z</td><td>smape</td><td>0.05605208923090749</td><td>List(6476.041015625, 6601.81884765625, 6496.162109375)</td><td>List(6220.0, 7430.0, 6560.0)</td></tr><tr><td>NeuralForecastAutoRNN</td><td>M1</td><td>2022-08-31T00:00:00.000Z</td><td>smape</td><td>0.1495108430431559</td><td>List(6143.82177734375, 6053.9033203125, 5918.10205078125)</td><td>List(7430.0, 6560.0, 7080.0)</td></tr><tr><td>NeuralForecastAutoRNN</td><td>M1</td><td>2022-09-30T00:00:00.000Z</td><td>smape</td><td>0.05243939597029481</td><td>List(7427.6328125, 7138.318359375, 6849.509765625)</td><td>List(6560.0, 7080.0, 6680.0)</td></tr><tr><td>NeuralForecastAutoRNN</td><td>M1</td><td>2022-10-31T00:00:00.000Z</td><td>smape</td><td>0.11563942908684699</td><td>List(6278.291015625, 5971.0556640625, 6150.818359375)</td><td>List(7080.0, 6680.0, 6900.0)</td></tr><tr><td>SKTimeProphet</td><td>M1</td><td>2022-01-31T00:00:00.000Z</td><td>smape</td><td>0.05143945305576186</td><td>List(7461.098876134802, 7498.209763839517, 7934.7798539914465)</td><td>List(6950.0, 7820.0, 8270.0)</td></tr><tr><td>SKTimeProphet</td><td>M1</td><td>2022-02-28T00:00:00.000Z</td><td>smape</td><td>0.06624994529446993</td><td>List(7403.910245305025, 7830.190966121669, 7168.711685538945)</td><td>List(7820.0, 8270.0, 7840.0)</td></tr><tr><td>SKTimeProphet</td><td>M1</td><td>2022-03-31T00:00:00.000Z</td><td>smape</td><td>0.08467985496204829</td><td>List(7960.1204674437895, 7306.670910597966, 6785.747867995037)</td><td>List(8270.0, 7840.0, 7850.0)</td></tr><tr><td>SKTimeProphet</td><td>M1</td><td>2022-04-30T00:00:00.000Z</td><td>smape</td><td>0.06665097780748111</td><td>List(7407.491795576177, 6894.840923676555, 6618.944616504635)</td><td>List(7840.0, 7850.0, 6710.0)</td></tr><tr><td>SKTimeProphet</td><td>M1</td><td>2022-05-31T00:00:00.000Z</td><td>smape</td><td>0.045983631649081126</td><td>List(6984.0473657196635, 6714.9010432073555, 6348.6318675106595)</td><td>List(7850.0, 6710.0, 6220.0)</td></tr><tr><td>SKTimeProphet</td><td>M1</td><td>2022-06-30T00:00:00.000Z</td><td>smape</td><td>0.03872984907851654</td><td>List(6907.72325011794, 6554.395118677709, 7175.883360094578)</td><td>List(6710.0, 6220.0, 7430.0)</td></tr><tr><td>SKTimeProphet</td><td>M1</td><td>2022-07-31T00:00:00.000Z</td><td>smape</td><td>0.03342173027796938</td><td>List(6483.596641395257, 7100.0547292683505, 6648.1651862872295)</td><td>List(6220.0, 7430.0, 6560.0)</td></tr><tr><td>SKTimeProphet</td><td>M1</td><td>2022-08-31T00:00:00.000Z</td><td>smape</td><td>0.06231935049206918</td><td>List(7049.272913825119, 6594.378420294018, 6221.133318766958)</td><td>List(7430.0, 6560.0, 7080.0)</td></tr><tr><td>SKTimeProphet</td><td>M1</td><td>2022-09-30T00:00:00.000Z</td><td>smape</td><td>0.08450785671623579</td><td>List(6675.4639863875755, 6307.364741716313, 5919.920104477723)</td><td>List(6560.0, 7080.0, 6680.0)</td></tr><tr><td>SKTimeProphet</td><td>M1</td><td>2022-10-31T00:00:00.000Z</td><td>smape</td><td>0.11509651282622242</td><td>List(6268.951008575023, 5878.62969936061, 6266.972363792762)</td><td>List(7080.0, 6680.0, 6900.0)</td></tr><tr><td>StatsForecastAutoArima</td><td>M1</td><td>2022-01-31T00:00:00.000Z</td><td>smape</td><td>0.23295465401908055</td><td>List(6060.0, 6060.0, 6060.0)</td><td>List(6950.0, 7820.0, 8270.0)</td></tr><tr><td>StatsForecastAutoArima</td><td>M1</td><td>2022-02-28T00:00:00.000Z</td><td>smape</td><td>0.1372046440461071</td><td>List(6950.0, 6950.0, 6950.0)</td><td>List(7820.0, 8270.0, 7840.0)</td></tr><tr><td>StatsForecastAutoArima</td><td>M1</td><td>2022-03-31T00:00:00.000Z</td><td>smape</td><td>0.08035570982023632</td><td>List(7726.011535466327, 7550.428308145597, 6854.356860137927)</td><td>List(8270.0, 7840.0, 7850.0)</td></tr><tr><td>StatsForecastAutoArima</td><td>M1</td><td>2022-04-30T00:00:00.000Z</td><td>smape</td><td>0.05471309075954119</td><td>List(7975.358956571972, 7071.899095521834, 6429.265976856841)</td><td>List(7840.0, 7850.0, 6710.0)</td></tr><tr><td>StatsForecastAutoArima</td><td>M1</td><td>2022-05-31T00:00:00.000Z</td><td>smape</td><td>0.0971616473871948</td><td>List(6952.338345257217, 6345.760492455984, 5546.926179245036)</td><td>List(7850.0, 6710.0, 6220.0)</td></tr><tr><td>StatsForecastAutoArima</td><td>M1</td><td>2022-06-30T00:00:00.000Z</td><td>smape</td><td>0.08851404087766028</td><td>List(7245.32733066414, 6215.424022077928, 6152.646964946708)</td><td>List(6710.0, 6220.0, 7430.0)</td></tr><tr><td>StatsForecastAutoArima</td><td>M1</td><td>2022-07-31T00:00:00.000Z</td><td>smape</td><td>0.1709319743083584</td><td>List(5831.458022447657, 5505.055317954117, 5640.774156668319)</td><td>List(6220.0, 7430.0, 6560.0)</td></tr><tr><td>StatsForecastAutoArima</td><td>M1</td><td>2022-08-31T00:00:00.000Z</td><td>smape</td><td>0.17540799580488242</td><td>List(5786.832058078568, 5868.392593543416, 5993.093434982782)</td><td>List(7430.0, 6560.0, 7080.0)</td></tr><tr><td>StatsForecastAutoArima</td><td>M1</td><td>2022-09-30T00:00:00.000Z</td><td>smape</td><td>0.04516269873802833</td><td>List(7193.56317220391, 7037.247992131523, 6933.90353539513)</td><td>List(6560.0, 7080.0, 6680.0)</td></tr><tr><td>StatsForecastAutoArima</td><td>M1</td><td>2022-10-31T00:00:00.000Z</td><td>smape</td><td>0.10179642843063241</td><td>List(6340.319423956426, 6005.65412770703, 6313.074826931741)</td><td>List(7080.0, 6680.0, 6900.0)</td></tr><tr><td>StatsForecastBaselineNaive</td><td>M1</td><td>2022-01-31T00:00:00.000Z</td><td>smape</td><td>0.23295465401908055</td><td>List(6060.0, 6060.0, 6060.0)</td><td>List(6950.0, 7820.0, 8270.0)</td></tr><tr><td>StatsForecastBaselineNaive</td><td>M1</td><td>2022-02-28T00:00:00.000Z</td><td>smape</td><td>0.1372046440461071</td><td>List(6950.0, 6950.0, 6950.0)</td><td>List(7820.0, 8270.0, 7840.0)</td></tr><tr><td>StatsForecastBaselineNaive</td><td>M1</td><td>2022-03-31T00:00:00.000Z</td><td>smape</td><td>0.02077287151841355</td><td>List(7820.0, 7820.0, 7820.0)</td><td>List(8270.0, 7840.0, 7850.0)</td></tr><tr><td>StatsForecastBaselineNaive</td><td>M1</td><td>2022-04-30T00:00:00.000Z</td><td>smape</td><td>0.1045899588922412</td><td>List(8270.0, 8270.0, 8270.0)</td><td>List(7840.0, 7850.0, 6710.0)</td></tr><tr><td>StatsForecastBaselineNaive</td><td>M1</td><td>2022-05-31T00:00:00.000Z</td><td>smape</td><td>0.12901404167452435</td><td>List(7840.0, 7840.0, 7840.0)</td><td>List(7850.0, 6710.0, 6220.0)</td></tr><tr><td>StatsForecastBaselineNaive</td><td>M1</td><td>2022-06-30T00:00:00.000Z</td><td>smape</td><td>0.14775529273067758</td><td>List(7850.0, 7850.0, 7850.0)</td><td>List(6710.0, 6220.0, 7430.0)</td></tr><tr><td>StatsForecastBaselineNaive</td><td>M1</td><td>2022-07-31T00:00:00.000Z</td><td>smape</td><td>0.0667462901561004</td><td>List(6710.0, 6710.0, 6710.0)</td><td>List(6220.0, 7430.0, 6560.0)</td></tr><tr><td>StatsForecastBaselineNaive</td><td>M1</td><td>2022-08-31T00:00:00.000Z</td><td>smape</td><td>0.11994027442507799</td><td>List(6220.0, 6220.0, 6220.0)</td><td>List(7430.0, 6560.0, 7080.0)</td></tr><tr><td>StatsForecastBaselineNaive</td><td>M1</td><td>2022-09-30T00:00:00.000Z</td><td>smape</td><td>0.09297490928097674</td><td>List(7430.0, 7430.0, 7430.0)</td><td>List(6560.0, 7080.0, 6680.0)</td></tr><tr><td>StatsForecastBaselineNaive</td><td>M1</td><td>2022-10-31T00:00:00.000Z</td><td>smape</td><td>0.048297760654579046</td><td>List(6560.0, 6560.0, 6560.0)</td><td>List(7080.0, 6680.0, 6900.0)</td></tr><tr><td>TimesFM_2_0_500m</td><td>M1</td><td>2022-01-31T00:00:00.000Z</td><td>smape</td><td>0.06301719616954533</td><td>List(7221.5595703125, 7254.4873046875, 7666.80859375)</td><td>List(6950.0, 7820.0, 8270.0)</td></tr><tr><td>TimesFM_2_0_500m</td><td>M1</td><td>2022-02-28T00:00:00.000Z</td><td>smape</td><td>0.08739671571168069</td><td>List(7324.02978515625, 7554.54345703125, 7048.9072265625)</td><td>List(7820.0, 8270.0, 7840.0)</td></tr><tr><td>TimesFM_2_0_500m</td><td>M1</td><td>2022-03-31T00:00:00.000Z</td><td>smape</td><td>0.08003958569155627</td><td>List(7806.53125, 7389.3603515625, 6938.4365234375)</td><td>List(8270.0, 7840.0, 7850.0)</td></tr><tr><td>TimesFM_2_0_500m</td><td>M1</td><td>2022-04-30T00:00:00.000Z</td><td>smape</td><td>0.053712564561048254</td><td>List(7445.28955078125, 7074.546875, 6672.69287109375)</td><td>List(7840.0, 7850.0, 6710.0)</td></tr><tr><td>TimesFM_2_0_500m</td><td>M1</td><td>2022-05-31T00:00:00.000Z</td><td>smape</td><td>0.05574531682121541</td><td>List(7144.11083984375, 6839.45068359375, 6565.02001953125)</td><td>List(7850.0, 6710.0, 6220.0)</td></tr><tr><td>TimesFM_2_0_500m</td><td>M1</td><td>2022-06-30T00:00:00.000Z</td><td>smape</td><td>0.06782060197001792</td><td>List(7109.62109375, 6916.20458984375, 7141.26953125)</td><td>List(6710.0, 6220.0, 7430.0)</td></tr><tr><td>TimesFM_2_0_500m</td><td>M1</td><td>2022-07-31T00:00:00.000Z</td><td>smape</td><td>0.05135264937394327</td><td>List(6602.9833984375, 6849.787109375, 6646.240234375)</td><td>List(6220.0, 7430.0, 6560.0)</td></tr><tr><td>TimesFM_2_0_500m</td><td>M1</td><td>2022-08-31T00:00:00.000Z</td><td>smape</td><td>0.07661843510797332</td><td>List(6738.6318359375, 6519.57568359375, 6240.2724609375)</td><td>List(7430.0, 6560.0, 7080.0)</td></tr><tr><td>TimesFM_2_0_500m</td><td>M1</td><td>2022-09-30T00:00:00.000Z</td><td>smape</td><td>0.06590400729357569</td><td>List(6853.4501953125, 6583.70263671875, 6158.05126953125)</td><td>List(6560.0, 7080.0, 6680.0)</td></tr><tr><td>TimesFM_2_0_500m</td><td>M1</td><td>2022-10-31T00:00:00.000Z</td><td>smape</td><td>0.09073406865869166</td><td>List(6460.96142578125, 6129.716796875, 6275.14453125)</td><td>List(7080.0, 6680.0, 6900.0)</td></tr></tbody></table></div>"
      ]
     },
     "metadata": {
      "application/vnd.databricks.v1+output": {
       "addedWidgets": {},
       "aggData": [],
       "aggError": "",
       "aggOverflow": false,
       "aggSchema": [],
       "aggSeriesLimitReached": false,
       "aggType": "",
       "arguments": {},
       "columnCustomDisplayInfos": {},
       "data": [
        [
         "ChronosBoltBase",
         "M1",
         "2022-01-31T00:00:00.000Z",
         "smape",
         0.05042952641046792,
         [
          7594.50390625,
          7896.99853515625,
          7844.06201171875
         ],
         [
          6950.0,
          7820.0,
          8270.0
         ]
        ],
        [
         "ChronosBoltBase",
         "M1",
         "2022-02-28T00:00:00.000Z",
         "smape",
         0.05221719566183658,
         [
          7668.8759765625,
          7713.8662109375,
          7327.70458984375
         ],
         [
          7820.0,
          8270.0,
          7840.0
         ]
        ],
        [
         "ChronosBoltBase",
         "M1",
         "2022-03-31T00:00:00.000Z",
         "smape",
         0.07572981533845291,
         [
          7875.84765625,
          7452.966796875,
          6907.37548828125
         ],
         [
          8270.0,
          7840.0,
          7850.0
         ]
        ],
        [
         "ChronosBoltBase",
         "M1",
         "2022-04-30T00:00:00.000Z",
         "smape",
         0.060044254983780465,
         [
          7672.60888671875,
          6998.9775390625,
          6421.57958984375
         ],
         [
          7840.0,
          7850.0,
          6710.0
         ]
        ],
        [
         "ChronosBoltBase",
         "M1",
         "2022-05-31T00:00:00.000Z",
         "smape",
         0.05116555096731529,
         [
          7012.98828125,
          6475.2255859375,
          6252.76953125
         ],
         [
          7850.0,
          6710.0,
          6220.0
         ]
        ],
        [
         "ChronosBoltBase",
         "M1",
         "2022-06-30T00:00:00.000Z",
         "smape",
         0.07144781940611789,
         [
          6952.1474609375,
          6687.51806640625,
          6679.01708984375
         ],
         [
          6710.0,
          6220.0,
          7430.0
         ]
        ],
        [
         "ChronosBoltBase",
         "M1",
         "2022-07-31T00:00:00.000Z",
         "smape",
         0.059980482722501,
         [
          6338.2109375,
          6498.95703125,
          6382.48828125
         ],
         [
          6220.0,
          7430.0,
          6560.0
         ]
        ],
        [
         "ChronosBoltBase",
         "M1",
         "2022-08-31T00:00:00.000Z",
         "smape",
         0.12520473098507656,
         [
          6407.12939453125,
          6317.31494140625,
          5851.04638671875
         ],
         [
          7430.0,
          6560.0,
          7080.0
         ]
        ],
        [
         "ChronosBoltBase",
         "M1",
         "2022-09-30T00:00:00.000Z",
         "smape",
         0.11749889733742391,
         [
          6879.9130859375,
          6284.75048828125,
          5543.8916015625
         ],
         [
          6560.0,
          7080.0,
          6680.0
         ]
        ],
        [
         "ChronosBoltBase",
         "M1",
         "2022-10-31T00:00:00.000Z",
         "smape",
         0.16489380327946612,
         [
          6084.2236328125,
          5551.828125,
          5884.103515625
         ],
         [
          7080.0,
          6680.0,
          6900.0
         ]
        ],
        [
         "MoiraiMoEBase",
         "M1",
         "2022-01-31T00:00:00.000Z",
         "smape",
         0.05399276351157991,
         [
          7300.6826171875,
          7773.40625,
          7431.642578125
         ],
         [
          6950.0,
          7820.0,
          8270.0
         ]
        ],
        [
         "MoiraiMoEBase",
         "M1",
         "2022-02-28T00:00:00.000Z",
         "smape",
         0.11211351212924292,
         [
          7904.310546875,
          7123.4091796875,
          6567.4921875
         ],
         [
          7820.0,
          8270.0,
          7840.0
         ]
        ],
        [
         "MoiraiMoEBase",
         "M1",
         "2022-03-31T00:00:00.000Z",
         "smape",
         0.11185366844415352,
         [
          7969.001953125,
          6881.31591796875,
          6631.75390625
         ],
         [
          8270.0,
          7840.0,
          7850.0
         ]
        ],
        [
         "MoiraiMoEBase",
         "M1",
         "2022-04-30T00:00:00.000Z",
         "smape",
         0.05239146738905517,
         [
          7888.8017578125,
          6885.70703125,
          6846.17578125
         ],
         [
          7840.0,
          7850.0,
          6710.0
         ]
        ],
        [
         "MoiraiMoEBase",
         "M1",
         "2022-05-31T00:00:00.000Z",
         "smape",
         0.07773136425202394,
         [
          7166.85986328125,
          6936.296875,
          6937.37255859375
         ],
         [
          7850.0,
          6710.0,
          6220.0
         ]
        ],
        [
         "MoiraiMoEBase",
         "M1",
         "2022-06-30T00:00:00.000Z",
         "smape",
         0.05612742665830502,
         [
          7000.54296875,
          6880.8466796875,
          7245.71875
         ],
         [
          6710.0,
          6220.0,
          7430.0
         ]
        ],
        [
         "MoiraiMoEBase",
         "M1",
         "2022-07-31T00:00:00.000Z",
         "smape",
         0.1065004982745209,
         [
          6636.296875,
          6672.072265625,
          7602.7177734375
         ],
         [
          6220.0,
          7430.0,
          6560.0
         ]
        ],
        [
         "MoiraiMoEBase",
         "M1",
         "2022-08-31T00:00:00.000Z",
         "smape",
         0.11066614287043867,
         [
          6547.025390625,
          6300.7119140625,
          5998.841796875
         ],
         [
          7430.0,
          6560.0,
          7080.0
         ]
        ],
        [
         "MoiraiMoEBase",
         "M1",
         "2022-09-30T00:00:00.000Z",
         "smape",
         0.054833080040392286,
         [
          6870.330078125,
          6352.71044921875,
          6747.1328125
         ],
         [
          6560.0,
          7080.0,
          6680.0
         ]
        ],
        [
         "MoiraiMoEBase",
         "M1",
         "2022-10-31T00:00:00.000Z",
         "smape",
         0.05953325147206628,
         [
          6354.3994140625,
          6265.98046875,
          6854.49072265625
         ],
         [
          7080.0,
          6680.0,
          6900.0
         ]
        ],
        [
         "NeuralForecastAutoNHITS",
         "M1",
         "2022-01-31T00:00:00.000Z",
         "smape",
         0.23000988880832027,
         [
          6060.2099609375,
          6079.99169921875,
          6094.5888671875
         ],
         [
          6950.0,
          7820.0,
          8270.0
         ]
        ],
        [
         "NeuralForecastAutoNHITS",
         "M1",
         "2022-02-28T00:00:00.000Z",
         "smape",
         0.11092140373711858,
         [
          7079.1640625,
          7145.78662109375,
          7183.00390625
         ],
         [
          7820.0,
          8270.0,
          7840.0
         ]
        ],
        [
         "NeuralForecastAutoNHITS",
         "M1",
         "2022-03-31T00:00:00.000Z",
         "smape",
         0.07152717644082973,
         [
          8299.205078125,
          8628.078125,
          8810.8876953125
         ],
         [
          8270.0,
          7840.0,
          7850.0
         ]
        ],
        [
         "NeuralForecastAutoNHITS",
         "M1",
         "2022-04-30T00:00:00.000Z",
         "smape",
         0.19829960011184253,
         [
          8606.4873046875,
          9228.9736328125,
          9460.6904296875
         ],
         [
          7840.0,
          7850.0,
          6710.0
         ]
        ],
        [
         "NeuralForecastAutoNHITS",
         "M1",
         "2022-05-31T00:00:00.000Z",
         "smape",
         0.148649822230684,
         [
          7963.49462890625,
          8010.68994140625,
          8036.89453125
         ],
         [
          7850.0,
          6710.0,
          6220.0
         ]
        ],
        [
         "NeuralForecastAutoNHITS",
         "M1",
         "2022-06-30T00:00:00.000Z",
         "smape",
         0.18125924216406145,
         [
          8039.5234375,
          8134.46826171875,
          8185.44189453125
         ],
         [
          6710.0,
          6220.0,
          7430.0
         ]
        ],
        [
         "NeuralForecastAutoNHITS",
         "M1",
         "2022-07-31T00:00:00.000Z",
         "smape",
         0.07733885997165223,
         [
          6878.12939453125,
          6969.8125,
          7019.0302734375
         ],
         [
          6220.0,
          7430.0,
          6560.0
         ]
        ],
        [
         "NeuralForecastAutoNHITS",
         "M1",
         "2022-08-31T00:00:00.000Z",
         "smape",
         0.1106789023221746,
         [
          6438.060546875,
          7269.20703125,
          7719.45751953125
         ],
         [
          7430.0,
          6560.0,
          7080.0
         ]
        ],
        [
         "NeuralForecastAutoNHITS",
         "M1",
         "2022-09-30T00:00:00.000Z",
         "smape",
         0.23561063150187153,
         [
          7916.3125,
          8725.5625,
          9142.095703125
         ],
         [
          6560.0,
          7080.0,
          6680.0
         ]
        ],
        [
         "NeuralForecastAutoNHITS",
         "M1",
         "2022-10-31T00:00:00.000Z",
         "smape",
         0.045054370390331167,
         [
          6973.453125,
          7151.8203125,
          7266.76025390625
         ],
         [
          7080.0,
          6680.0,
          6900.0
         ]
        ],
        [
         "NeuralForecastAutoRNN",
         "M1",
         "2022-01-31T00:00:00.000Z",
         "smape",
         0.06588747210128865,
         [
          6598.82373046875,
          7355.7509765625,
          7598.44140625
         ],
         [
          6950.0,
          7820.0,
          8270.0
         ]
        ],
        [
         "NeuralForecastAutoRNN",
         "M1",
         "2022-02-28T00:00:00.000Z",
         "smape",
         0.041121429584184604,
         [
          7447.81640625,
          7871.56640625,
          7644.5625
         ],
         [
          7820.0,
          8270.0,
          7840.0
         ]
        ],
        [
         "NeuralForecastAutoRNN",
         "M1",
         "2022-03-31T00:00:00.000Z",
         "smape",
         0.03554169754805652,
         [
          8008.5849609375,
          7846.18896484375,
          7291.8828125
         ],
         [
          8270.0,
          7840.0,
          7850.0
         ]
        ],
        [
         "NeuralForecastAutoRNN",
         "M1",
         "2022-04-30T00:00:00.000Z",
         "smape",
         0.036862333131074766,
         [
          8118.56884765625,
          7567.56787109375,
          6977.158203125
         ],
         [
          7840.0,
          7850.0,
          6710.0
         ]
        ],
        [
         "NeuralForecastAutoRNN",
         "M1",
         "2022-05-31T00:00:00.000Z",
         "smape",
         0.03767095734735159,
         [
          7520.36962890625,
          7037.04736328125,
          6361.7998046875
         ],
         [
          7850.0,
          6710.0,
          6220.0
         ]
        ],
        [
         "NeuralForecastAutoRNN",
         "M1",
         "2022-06-30T00:00:00.000Z",
         "smape",
         0.10206201094068927,
         [
          7568.46826171875,
          7318.8857421875,
          7256.63037109375
         ],
         [
          6710.0,
          6220.0,
          7430.0
         ]
        ],
        [
         "NeuralForecastAutoRNN",
         "M1",
         "2022-07-31T00:00:00.000Z",
         "smape",
         0.05605208923090749,
         [
          6476.041015625,
          6601.81884765625,
          6496.162109375
         ],
         [
          6220.0,
          7430.0,
          6560.0
         ]
        ],
        [
         "NeuralForecastAutoRNN",
         "M1",
         "2022-08-31T00:00:00.000Z",
         "smape",
         0.1495108430431559,
         [
          6143.82177734375,
          6053.9033203125,
          5918.10205078125
         ],
         [
          7430.0,
          6560.0,
          7080.0
         ]
        ],
        [
         "NeuralForecastAutoRNN",
         "M1",
         "2022-09-30T00:00:00.000Z",
         "smape",
         0.05243939597029481,
         [
          7427.6328125,
          7138.318359375,
          6849.509765625
         ],
         [
          6560.0,
          7080.0,
          6680.0
         ]
        ],
        [
         "NeuralForecastAutoRNN",
         "M1",
         "2022-10-31T00:00:00.000Z",
         "smape",
         0.11563942908684699,
         [
          6278.291015625,
          5971.0556640625,
          6150.818359375
         ],
         [
          7080.0,
          6680.0,
          6900.0
         ]
        ],
        [
         "SKTimeProphet",
         "M1",
         "2022-01-31T00:00:00.000Z",
         "smape",
         0.05143945305576186,
         [
          7461.098876134802,
          7498.209763839517,
          7934.7798539914465
         ],
         [
          6950.0,
          7820.0,
          8270.0
         ]
        ],
        [
         "SKTimeProphet",
         "M1",
         "2022-02-28T00:00:00.000Z",
         "smape",
         0.06624994529446993,
         [
          7403.910245305025,
          7830.190966121669,
          7168.711685538945
         ],
         [
          7820.0,
          8270.0,
          7840.0
         ]
        ],
        [
         "SKTimeProphet",
         "M1",
         "2022-03-31T00:00:00.000Z",
         "smape",
         0.08467985496204829,
         [
          7960.1204674437895,
          7306.670910597966,
          6785.747867995037
         ],
         [
          8270.0,
          7840.0,
          7850.0
         ]
        ],
        [
         "SKTimeProphet",
         "M1",
         "2022-04-30T00:00:00.000Z",
         "smape",
         0.06665097780748111,
         [
          7407.491795576177,
          6894.840923676555,
          6618.944616504635
         ],
         [
          7840.0,
          7850.0,
          6710.0
         ]
        ],
        [
         "SKTimeProphet",
         "M1",
         "2022-05-31T00:00:00.000Z",
         "smape",
         0.045983631649081126,
         [
          6984.0473657196635,
          6714.9010432073555,
          6348.6318675106595
         ],
         [
          7850.0,
          6710.0,
          6220.0
         ]
        ],
        [
         "SKTimeProphet",
         "M1",
         "2022-06-30T00:00:00.000Z",
         "smape",
         0.03872984907851654,
         [
          6907.72325011794,
          6554.395118677709,
          7175.883360094578
         ],
         [
          6710.0,
          6220.0,
          7430.0
         ]
        ],
        [
         "SKTimeProphet",
         "M1",
         "2022-07-31T00:00:00.000Z",
         "smape",
         0.03342173027796938,
         [
          6483.596641395257,
          7100.0547292683505,
          6648.1651862872295
         ],
         [
          6220.0,
          7430.0,
          6560.0
         ]
        ],
        [
         "SKTimeProphet",
         "M1",
         "2022-08-31T00:00:00.000Z",
         "smape",
         0.06231935049206918,
         [
          7049.272913825119,
          6594.378420294018,
          6221.133318766958
         ],
         [
          7430.0,
          6560.0,
          7080.0
         ]
        ],
        [
         "SKTimeProphet",
         "M1",
         "2022-09-30T00:00:00.000Z",
         "smape",
         0.08450785671623579,
         [
          6675.4639863875755,
          6307.364741716313,
          5919.920104477723
         ],
         [
          6560.0,
          7080.0,
          6680.0
         ]
        ],
        [
         "SKTimeProphet",
         "M1",
         "2022-10-31T00:00:00.000Z",
         "smape",
         0.11509651282622242,
         [
          6268.951008575023,
          5878.62969936061,
          6266.972363792762
         ],
         [
          7080.0,
          6680.0,
          6900.0
         ]
        ],
        [
         "StatsForecastAutoArima",
         "M1",
         "2022-01-31T00:00:00.000Z",
         "smape",
         0.23295465401908055,
         [
          6060.0,
          6060.0,
          6060.0
         ],
         [
          6950.0,
          7820.0,
          8270.0
         ]
        ],
        [
         "StatsForecastAutoArima",
         "M1",
         "2022-02-28T00:00:00.000Z",
         "smape",
         0.1372046440461071,
         [
          6950.0,
          6950.0,
          6950.0
         ],
         [
          7820.0,
          8270.0,
          7840.0
         ]
        ],
        [
         "StatsForecastAutoArima",
         "M1",
         "2022-03-31T00:00:00.000Z",
         "smape",
         0.08035570982023632,
         [
          7726.011535466327,
          7550.428308145597,
          6854.356860137927
         ],
         [
          8270.0,
          7840.0,
          7850.0
         ]
        ],
        [
         "StatsForecastAutoArima",
         "M1",
         "2022-04-30T00:00:00.000Z",
         "smape",
         0.05471309075954119,
         [
          7975.358956571972,
          7071.899095521834,
          6429.265976856841
         ],
         [
          7840.0,
          7850.0,
          6710.0
         ]
        ],
        [
         "StatsForecastAutoArima",
         "M1",
         "2022-05-31T00:00:00.000Z",
         "smape",
         0.0971616473871948,
         [
          6952.338345257217,
          6345.760492455984,
          5546.926179245036
         ],
         [
          7850.0,
          6710.0,
          6220.0
         ]
        ],
        [
         "StatsForecastAutoArima",
         "M1",
         "2022-06-30T00:00:00.000Z",
         "smape",
         0.08851404087766028,
         [
          7245.32733066414,
          6215.424022077928,
          6152.646964946708
         ],
         [
          6710.0,
          6220.0,
          7430.0
         ]
        ],
        [
         "StatsForecastAutoArima",
         "M1",
         "2022-07-31T00:00:00.000Z",
         "smape",
         0.1709319743083584,
         [
          5831.458022447657,
          5505.055317954117,
          5640.774156668319
         ],
         [
          6220.0,
          7430.0,
          6560.0
         ]
        ],
        [
         "StatsForecastAutoArima",
         "M1",
         "2022-08-31T00:00:00.000Z",
         "smape",
         0.17540799580488242,
         [
          5786.832058078568,
          5868.392593543416,
          5993.093434982782
         ],
         [
          7430.0,
          6560.0,
          7080.0
         ]
        ],
        [
         "StatsForecastAutoArima",
         "M1",
         "2022-09-30T00:00:00.000Z",
         "smape",
         0.04516269873802833,
         [
          7193.56317220391,
          7037.247992131523,
          6933.90353539513
         ],
         [
          6560.0,
          7080.0,
          6680.0
         ]
        ],
        [
         "StatsForecastAutoArima",
         "M1",
         "2022-10-31T00:00:00.000Z",
         "smape",
         0.10179642843063241,
         [
          6340.319423956426,
          6005.65412770703,
          6313.074826931741
         ],
         [
          7080.0,
          6680.0,
          6900.0
         ]
        ],
        [
         "StatsForecastBaselineNaive",
         "M1",
         "2022-01-31T00:00:00.000Z",
         "smape",
         0.23295465401908055,
         [
          6060.0,
          6060.0,
          6060.0
         ],
         [
          6950.0,
          7820.0,
          8270.0
         ]
        ],
        [
         "StatsForecastBaselineNaive",
         "M1",
         "2022-02-28T00:00:00.000Z",
         "smape",
         0.1372046440461071,
         [
          6950.0,
          6950.0,
          6950.0
         ],
         [
          7820.0,
          8270.0,
          7840.0
         ]
        ],
        [
         "StatsForecastBaselineNaive",
         "M1",
         "2022-03-31T00:00:00.000Z",
         "smape",
         0.02077287151841355,
         [
          7820.0,
          7820.0,
          7820.0
         ],
         [
          8270.0,
          7840.0,
          7850.0
         ]
        ],
        [
         "StatsForecastBaselineNaive",
         "M1",
         "2022-04-30T00:00:00.000Z",
         "smape",
         0.1045899588922412,
         [
          8270.0,
          8270.0,
          8270.0
         ],
         [
          7840.0,
          7850.0,
          6710.0
         ]
        ],
        [
         "StatsForecastBaselineNaive",
         "M1",
         "2022-05-31T00:00:00.000Z",
         "smape",
         0.12901404167452435,
         [
          7840.0,
          7840.0,
          7840.0
         ],
         [
          7850.0,
          6710.0,
          6220.0
         ]
        ],
        [
         "StatsForecastBaselineNaive",
         "M1",
         "2022-06-30T00:00:00.000Z",
         "smape",
         0.14775529273067758,
         [
          7850.0,
          7850.0,
          7850.0
         ],
         [
          6710.0,
          6220.0,
          7430.0
         ]
        ],
        [
         "StatsForecastBaselineNaive",
         "M1",
         "2022-07-31T00:00:00.000Z",
         "smape",
         0.0667462901561004,
         [
          6710.0,
          6710.0,
          6710.0
         ],
         [
          6220.0,
          7430.0,
          6560.0
         ]
        ],
        [
         "StatsForecastBaselineNaive",
         "M1",
         "2022-08-31T00:00:00.000Z",
         "smape",
         0.11994027442507799,
         [
          6220.0,
          6220.0,
          6220.0
         ],
         [
          7430.0,
          6560.0,
          7080.0
         ]
        ],
        [
         "StatsForecastBaselineNaive",
         "M1",
         "2022-09-30T00:00:00.000Z",
         "smape",
         0.09297490928097674,
         [
          7430.0,
          7430.0,
          7430.0
         ],
         [
          6560.0,
          7080.0,
          6680.0
         ]
        ],
        [
         "StatsForecastBaselineNaive",
         "M1",
         "2022-10-31T00:00:00.000Z",
         "smape",
         0.048297760654579046,
         [
          6560.0,
          6560.0,
          6560.0
         ],
         [
          7080.0,
          6680.0,
          6900.0
         ]
        ],
        [
         "TimesFM_2_0_500m",
         "M1",
         "2022-01-31T00:00:00.000Z",
         "smape",
         0.06301719616954533,
         [
          7221.5595703125,
          7254.4873046875,
          7666.80859375
         ],
         [
          6950.0,
          7820.0,
          8270.0
         ]
        ],
        [
         "TimesFM_2_0_500m",
         "M1",
         "2022-02-28T00:00:00.000Z",
         "smape",
         0.08739671571168069,
         [
          7324.02978515625,
          7554.54345703125,
          7048.9072265625
         ],
         [
          7820.0,
          8270.0,
          7840.0
         ]
        ],
        [
         "TimesFM_2_0_500m",
         "M1",
         "2022-03-31T00:00:00.000Z",
         "smape",
         0.08003958569155627,
         [
          7806.53125,
          7389.3603515625,
          6938.4365234375
         ],
         [
          8270.0,
          7840.0,
          7850.0
         ]
        ],
        [
         "TimesFM_2_0_500m",
         "M1",
         "2022-04-30T00:00:00.000Z",
         "smape",
         0.053712564561048254,
         [
          7445.28955078125,
          7074.546875,
          6672.69287109375
         ],
         [
          7840.0,
          7850.0,
          6710.0
         ]
        ],
        [
         "TimesFM_2_0_500m",
         "M1",
         "2022-05-31T00:00:00.000Z",
         "smape",
         0.05574531682121541,
         [
          7144.11083984375,
          6839.45068359375,
          6565.02001953125
         ],
         [
          7850.0,
          6710.0,
          6220.0
         ]
        ],
        [
         "TimesFM_2_0_500m",
         "M1",
         "2022-06-30T00:00:00.000Z",
         "smape",
         0.06782060197001792,
         [
          7109.62109375,
          6916.20458984375,
          7141.26953125
         ],
         [
          6710.0,
          6220.0,
          7430.0
         ]
        ],
        [
         "TimesFM_2_0_500m",
         "M1",
         "2022-07-31T00:00:00.000Z",
         "smape",
         0.05135264937394327,
         [
          6602.9833984375,
          6849.787109375,
          6646.240234375
         ],
         [
          6220.0,
          7430.0,
          6560.0
         ]
        ],
        [
         "TimesFM_2_0_500m",
         "M1",
         "2022-08-31T00:00:00.000Z",
         "smape",
         0.07661843510797332,
         [
          6738.6318359375,
          6519.57568359375,
          6240.2724609375
         ],
         [
          7430.0,
          6560.0,
          7080.0
         ]
        ],
        [
         "TimesFM_2_0_500m",
         "M1",
         "2022-09-30T00:00:00.000Z",
         "smape",
         0.06590400729357569,
         [
          6853.4501953125,
          6583.70263671875,
          6158.05126953125
         ],
         [
          6560.0,
          7080.0,
          6680.0
         ]
        ],
        [
         "TimesFM_2_0_500m",
         "M1",
         "2022-10-31T00:00:00.000Z",
         "smape",
         0.09073406865869166,
         [
          6460.96142578125,
          6129.716796875,
          6275.14453125
         ],
         [
          7080.0,
          6680.0,
          6900.0
         ]
        ]
       ],
       "datasetInfos": [],
       "dbfsResultPath": null,
       "isJsonSchema": true,
       "metadata": {},
       "overflow": false,
       "plotOptions": {
        "customPlotOptions": {},
        "displayType": "table",
        "pivotAggregation": null,
        "pivotColumns": null,
        "xColumns": null,
        "yColumns": null
       },
       "removedWidgets": [],
       "schema": [
        {
         "metadata": "{}",
         "name": "model",
         "type": "\"string\""
        },
        {
         "metadata": "{}",
         "name": "unique_id",
         "type": "\"string\""
        },
        {
         "metadata": "{}",
         "name": "backtest_window_start_date",
         "type": "\"timestamp\""
        },
        {
         "metadata": "{}",
         "name": "metric_name",
         "type": "\"string\""
        },
        {
         "metadata": "{}",
         "name": "metric_value",
         "type": "\"double\""
        },
        {
         "metadata": "{}",
         "name": "forecast",
         "type": "{\"containsNull\":true,\"elementType\":\"double\",\"type\":\"array\"}"
        },
        {
         "metadata": "{}",
         "name": "actual",
         "type": "{\"containsNull\":true,\"elementType\":\"double\",\"type\":\"array\"}"
        }
       ],
       "type": "table"
      }
     },
     "output_type": "display_data"
    }
   ],
   "source": [
    "evaluation_output =  spark.sql(f\"\"\"\n",
    "    SELECT model, unique_id, backtest_window_start_date, metric_name, metric_value, forecast, actual \n",
    "    FROM {catalog}.{db}.monthly_evaluation_output where unique_id='M1'\n",
    "    AND model in ('ChronosBoltBase', 'TimesFM_2_0_500m', 'MoiraiMoEBase', 'NeuralForecastAutoRNN', 'NeuralForecastAutoNHITS', 'StatsForecastBaselineNaive', 'StatsForecastAutoArima', 'SKTimeProphet')\n",
    "    ORDER BY model, backtest_window_start_date\n",
    "    \"\"\")\n",
    "\n",
    "display(evaluation_output)"
   ]
  },
  {
   "cell_type": "markdown",
   "metadata": {
    "application/vnd.databricks.v1+cell": {
     "cellMetadata": {
      "byteLimit": 2048000,
      "rowLimit": 10000
     },
     "inputWidgets": {},
     "nuid": "824a3595-1493-4e60-981d-5945f2dc08cf",
     "showTitle": false,
     "tableResultSettingsMap": {},
     "title": ""
    }
   },
   "source": [
    "Based on the backtesting configuration, defined by the parameters `backtest_length`, `prediction_length`, and `stride` in the `mmf_sa.run_forecast` function, we obtain results from 10 backtesting trials for each model. For each trial, both forecasts and actual values are stored, enabling you to compute evaluation metrics based on residuals. Additionally, this table includes a built-in metric for quick assessment, which can be specified using the `metric` parameter. In this case, the metric is `smape`, and currently, `mae`, `mse`, `rmse`, `mape`, and `smape` are supported.\n",
    "\n",
    "We compute the mean `smape` across 10 backtesting trials for each model and each time series. The model with the lowest mean `smape` is then selected for each time series, and its forecast is retrieved from the `forecast_output` table. Below is a SQL query that performs this selection."
   ]
  },
  {
   "cell_type": "code",
   "execution_count": 0,
   "metadata": {
    "application/vnd.databricks.v1+cell": {
     "cellMetadata": {
      "byteLimit": 2048000,
      "implicitDf": true,
      "rowLimit": 10000
     },
     "inputWidgets": {},
     "nuid": "e0e89219-3725-430f-8be3-de4817177f43",
     "showTitle": false,
     "tableResultSettingsMap": {
      "0": {
       "dataGridStateBlob": "{\"version\":1,\"tableState\":{\"columnPinning\":{\"left\":[\"#row_number#\"],\"right\":[]},\"columnSizing\":{},\"columnVisibility\":{}},\"settings\":{\"columns\":{}},\"syncTimestamp\":1752064859501}",
       "filterBlob": null,
       "queryPlanFiltersBlob": null,
       "tableResultIndex": 0
      }
     },
     "title": ""
    }
   },
   "outputs": [
    {
     "output_type": "display_data",
     "data": {
      "text/html": [
       "<style scoped>\n",
       "  .table-result-container {\n",
       "    max-height: 300px;\n",
       "    overflow: auto;\n",
       "  }\n",
       "  table, th, td {\n",
       "    border: 1px solid black;\n",
       "    border-collapse: collapse;\n",
       "  }\n",
       "  th, td {\n",
       "    padding: 5px;\n",
       "  }\n",
       "  th {\n",
       "    text-align: left;\n",
       "  }\n",
       "</style><div class='table-result-container'><table class='table-result'><thead style='background-color: white'><tr><th>unique_id</th><th>model</th><th>average_smape</th><th>date</th><th>y</th></tr></thead><tbody><tr><td>M1</td><td>SKTimeProphet</td><td>0.06490791621598554</td><td>List(2023-01-31T00:00:00.000Z, 2023-02-28T00:00:00.000Z, 2023-03-31T00:00:00.000Z)</td><td>List(8506.685254588756, 8580.63398046615, 9147.60523439392)</td></tr><tr><td>M10</td><td>StatsForecastBaselineSeasonalNaive</td><td>0.04339194407979583</td><td>List(2023-01-31T00:00:00.000Z, 2023-02-28T00:00:00.000Z, 2023-03-31T00:00:00.000Z)</td><td>List(12470.0, 11290.0, 13770.0)</td></tr><tr><td>M100</td><td>NeuralForecastAutoRNN</td><td>0.003361166027924088</td><td>List(2023-01-31T00:00:00.000Z, 2023-02-28T00:00:00.000Z, 2023-03-31T00:00:00.000Z)</td><td>List(975.5025634765625, 977.2259521484375, 984.3120727539062)</td></tr><tr><td>M1000</td><td>ChronosBoltSmall</td><td>0.11538662297873889</td><td>List(2023-01-31T00:00:00.000Z, 2023-02-28T00:00:00.000Z, 2023-03-31T00:00:00.000Z)</td><td>List(1964.634033203125, 2018.71484375, 2090.822509765625)</td></tr><tr><td>M101</td><td>ChronosBoltBase</td><td>0.013454114391219879</td><td>List(2023-01-31T00:00:00.000Z, 2023-02-28T00:00:00.000Z, 2023-03-31T00:00:00.000Z)</td><td>List(1018.5897216796875, 1030.1912841796875, 1039.8592529296875)</td></tr><tr><td>M102</td><td>ChronosBoltTiny</td><td>0.07223508789932025</td><td>List(2023-01-31T00:00:00.000Z, 2023-02-28T00:00:00.000Z, 2023-03-31T00:00:00.000Z)</td><td>List(3884.66455078125, 3850.48583984375, 3961.566650390625)</td></tr><tr><td>M103</td><td>SKTimeProphet</td><td>0.10569316627683198</td><td>List(2023-01-31T00:00:00.000Z, 2023-02-28T00:00:00.000Z, 2023-03-31T00:00:00.000Z)</td><td>List(2980.6363576639333, 3046.3657733351747, 3228.674089325179)</td></tr><tr><td>M104</td><td>StatsForecastAutoArima</td><td>0.009504299806688151</td><td>List(2023-01-31T00:00:00.000Z, 2023-02-28T00:00:00.000Z, 2023-03-31T00:00:00.000Z)</td><td>List(1511.525423699008, 1520.0508473980158, 1528.576271097024)</td></tr><tr><td>M105</td><td>TimesFM_1_0_200m</td><td>0.013692023869182399</td><td>List(2023-01-31T00:00:00.000Z, 2023-02-28T00:00:00.000Z, 2023-03-31T00:00:00.000Z)</td><td>List(1182.31396484375, 1180.02099609375, 1175.67626953125)</td></tr><tr><td>M106</td><td>StatsForecastAutoTbats</td><td>0.0024280608889585367</td><td>List(2023-01-31T00:00:00.000Z, 2023-02-28T00:00:00.000Z, 2023-03-31T00:00:00.000Z)</td><td>List(1184.8633591095631, 1185.1029801401032, 1184.6267398983614)</td></tr><tr><td>M107</td><td>SKTimeProphet</td><td>0.007321004888897448</td><td>List(2023-01-31T00:00:00.000Z, 2023-02-28T00:00:00.000Z, 2023-03-31T00:00:00.000Z)</td><td>List(1257.8375618549119, 1265.1674119525064, 1272.7254883411495)</td></tr><tr><td>M108</td><td>StatsForecastAutoTbats</td><td>0.011276758581443294</td><td>List(2023-01-31T00:00:00.000Z, 2023-02-28T00:00:00.000Z, 2023-03-31T00:00:00.000Z)</td><td>List(1445.2872501338954, 1455.8238282891946, 1469.5468241037602)</td></tr><tr><td>M109</td><td>MoiraiBase</td><td>0.003095239352774751</td><td>List(2023-01-31T00:00:00.000Z, 2023-02-28T00:00:00.000Z, 2023-03-31T00:00:00.000Z)</td><td>List(9058.81640625, 9067.689453125, 9098.421875)</td></tr><tr><td>M11</td><td>ChronosT5Base</td><td>0.012874705400831127</td><td>List(2023-01-31T00:00:00.000Z, 2023-02-28T00:00:00.000Z, 2023-03-31T00:00:00.000Z)</td><td>List(5233.0517578125, 5313.80859375, 5329.9599609375)</td></tr><tr><td>M110</td><td>NeuralForecastNBEATSx</td><td>0.021986611845398456</td><td>List(2023-01-31T00:00:00.000Z, 2023-02-28T00:00:00.000Z, 2023-03-31T00:00:00.000Z)</td><td>List(1878.12109375, 1881.9256591796875, 1885.339111328125)</td></tr><tr><td>M111</td><td>ChronosT5Large</td><td>0.008228937933642518</td><td>List(2023-01-31T00:00:00.000Z, 2023-02-28T00:00:00.000Z, 2023-03-31T00:00:00.000Z)</td><td>List(1335.3995361328125, 1335.3995361328125, 1335.3995361328125)</td></tr><tr><td>M112</td><td>SKTimeProphet</td><td>0.008321367486261552</td><td>List(2023-01-31T00:00:00.000Z, 2023-02-28T00:00:00.000Z, 2023-03-31T00:00:00.000Z)</td><td>List(1439.2967215201604, 1484.8072952210798, 1486.956563434068)</td></tr><tr><td>M113</td><td>SKTimeProphet</td><td>0.007107002350527511</td><td>List(2023-01-31T00:00:00.000Z, 2023-02-28T00:00:00.000Z, 2023-03-31T00:00:00.000Z)</td><td>List(1266.9751765443373, 1273.0992205368175, 1278.0767108152393)</td></tr><tr><td>M114</td><td>TimesFM_2_0_500m</td><td>0.012843993024744715</td><td>List(2023-01-31T00:00:00.000Z, 2023-02-28T00:00:00.000Z, 2023-03-31T00:00:00.000Z)</td><td>List(514.6016235351562, 516.850341796875, 518.7313232421875)</td></tr><tr><td>M115</td><td>StatsForecastAutoArima</td><td>0.039733702066479325</td><td>List(2023-01-31T00:00:00.000Z, 2023-02-28T00:00:00.000Z, 2023-03-31T00:00:00.000Z)</td><td>List(1122.8775080777261, 1128.3665480778532, 1133.8555880779804)</td></tr><tr><td>M116</td><td>StatsForecastTSB</td><td>0.0068276392243249075</td><td>List(2023-01-31T00:00:00.000Z, 2023-02-28T00:00:00.000Z, 2023-03-31T00:00:00.000Z)</td><td>List(1034.3411212619799, 1034.3411212619799, 1034.3411212619799)</td></tr><tr><td>M117</td><td>ChronosT5Base</td><td>0.0081656076264011</td><td>List(2023-01-31T00:00:00.000Z, 2023-02-28T00:00:00.000Z, 2023-03-31T00:00:00.000Z)</td><td>List(2477.43896484375, 2460.9775390625, 2469.208251953125)</td></tr><tr><td>M118</td><td>StatsForecastAutoArima</td><td>0.00912437769272909</td><td>List(2023-01-31T00:00:00.000Z, 2023-02-28T00:00:00.000Z, 2023-03-31T00:00:00.000Z)</td><td>List(3170.0, 3170.0, 3170.0)</td></tr><tr><td>M119</td><td>StatsForecastAutoArima</td><td>0.014751264333460168</td><td>List(2023-01-31T00:00:00.000Z, 2023-02-28T00:00:00.000Z, 2023-03-31T00:00:00.000Z)</td><td>List(3255.9169939119856, 3254.249900040509, 3253.569224597856)</td></tr><tr><td>M12</td><td>NeuralForecastAutoPatchTST</td><td>0.02483766890898257</td><td>List(2023-01-31T00:00:00.000Z, 2023-02-28T00:00:00.000Z, 2023-03-31T00:00:00.000Z)</td><td>List(3304.849853515625, 3370.30078125, 3440.117431640625)</td></tr><tr><td>M120</td><td>StatsForecastBaselineNaive</td><td>0.013757615565670714</td><td>List(2023-01-31T00:00:00.000Z, 2023-02-28T00:00:00.000Z, 2023-03-31T00:00:00.000Z)</td><td>List(432.0, 432.0, 432.0)</td></tr><tr><td>M121</td><td>StatsForecastAutoArima</td><td>0.014873799206373262</td><td>List(2023-01-31T00:00:00.000Z, 2023-02-28T00:00:00.000Z, 2023-03-31T00:00:00.000Z)</td><td>List(3216.2554824193676, 3214.8533412282013, 3214.3283069941162)</td></tr><tr><td>M122</td><td>NeuralForecastNHITS</td><td>0.04175602476456805</td><td>List(2023-01-31T00:00:00.000Z, 2023-02-28T00:00:00.000Z, 2023-03-31T00:00:00.000Z)</td><td>List(3571.5634765625, 3595.45947265625, 3607.5751953125)</td></tr><tr><td>M123</td><td>ChronosBoltTiny</td><td>0.17665903071419858</td><td>List(2023-01-31T00:00:00.000Z, 2023-02-28T00:00:00.000Z, 2023-03-31T00:00:00.000Z)</td><td>List(3548.6650390625, 3586.922119140625, 3606.05078125)</td></tr><tr><td>M124</td><td>MoiraiMoEBase</td><td>0.34271695110317796</td><td>List(2023-01-31T00:00:00.000Z, 2023-02-28T00:00:00.000Z, 2023-03-31T00:00:00.000Z)</td><td>List(5044.076171875, 3773.081298828125, 4139.33447265625)</td></tr><tr><td>M125</td><td>ChronosBoltMini</td><td>0.04136058502505112</td><td>List(2023-01-31T00:00:00.000Z, 2023-02-28T00:00:00.000Z, 2023-03-31T00:00:00.000Z)</td><td>List(3545.72119140625, 3612.509521484375, 3668.16650390625)</td></tr><tr><td>M126</td><td>TimesFM_2_0_500m</td><td>0.06976165195591019</td><td>List(2023-01-31T00:00:00.000Z, 2023-02-28T00:00:00.000Z, 2023-03-31T00:00:00.000Z)</td><td>List(1301.4544677734375, 1296.9415283203125, 1331.1451416015625)</td></tr><tr><td>M127</td><td>StatsForecastCrostonClassic</td><td>0.03962076530263412</td><td>List(2023-01-31T00:00:00.000Z, 2023-02-28T00:00:00.000Z, 2023-03-31T00:00:00.000Z)</td><td>List(1121.7515479775957, 1121.7515479775957, 1121.7515479775957)</td></tr><tr><td>M128</td><td>NeuralForecastAutoRNN</td><td>0.07543202881955573</td><td>List(2023-01-31T00:00:00.000Z, 2023-02-28T00:00:00.000Z, 2023-03-31T00:00:00.000Z)</td><td>List(1422.169921875, 1296.4342041015625, 1405.37841796875)</td></tr><tr><td>M129</td><td>NeuralForecastAutoRNN</td><td>0.10756956725431603</td><td>List(2023-01-31T00:00:00.000Z, 2023-02-28T00:00:00.000Z, 2023-03-31T00:00:00.000Z)</td><td>List(1510.383056640625, 1341.1236572265625, 1482.916259765625)</td></tr><tr><td>M13</td><td>NeuralForecastAutoNBEATSx</td><td>0.02438940619257639</td><td>List(2023-01-31T00:00:00.000Z, 2023-02-28T00:00:00.000Z, 2023-03-31T00:00:00.000Z)</td><td>List(2615.721435546875, 2614.212158203125, 2613.321533203125)</td></tr><tr><td>M130</td><td>StatsForecastCrostonSBA</td><td>0.04738054229309461</td><td>List(2023-01-31T00:00:00.000Z, 2023-02-28T00:00:00.000Z, 2023-03-31T00:00:00.000Z)</td><td>List(1570.763552850153, 1570.763552850153, 1570.763552850153)</td></tr><tr><td>M131</td><td>StatsForecastAutoArima</td><td>0.01210046966300258</td><td>List(2023-01-31T00:00:00.000Z, 2023-02-28T00:00:00.000Z, 2023-03-31T00:00:00.000Z)</td><td>List(1327.457627118644, 1332.915254237288, 1338.3728813559323)</td></tr><tr><td>M132</td><td>NeuralForecastNHITS</td><td>0.03505339173827288</td><td>List(2023-01-31T00:00:00.000Z, 2023-02-28T00:00:00.000Z, 2023-03-31T00:00:00.000Z)</td><td>List(1187.06787109375, 1182.4725341796875, 1171.791259765625)</td></tr><tr><td>M133</td><td>ChronosBoltMini</td><td>0.012974259436278595</td><td>List(2023-01-31T00:00:00.000Z, 2023-02-28T00:00:00.000Z, 2023-03-31T00:00:00.000Z)</td><td>List(1281.46533203125, 1273.5537109375, 1270.1630859375)</td></tr><tr><td>M134</td><td>TimesFM_2_0_500m</td><td>0.013946841887419941</td><td>List(2023-01-31T00:00:00.000Z, 2023-02-28T00:00:00.000Z, 2023-03-31T00:00:00.000Z)</td><td>List(1158.5333251953125, 1108.5654296875, 1086.176025390625)</td></tr><tr><td>M135</td><td>StatsForecastAutoTheta</td><td>0.0027609372790956795</td><td>List(2023-01-31T00:00:00.000Z, 2023-02-28T00:00:00.000Z, 2023-03-31T00:00:00.000Z)</td><td>List(1044.5386962890625, 1044.937255859375, 1045.3358154296875)</td></tr><tr><td>M136</td><td>ChronosT5Large</td><td>0.0069459026417183324</td><td>List(2023-01-31T00:00:00.000Z, 2023-02-28T00:00:00.000Z, 2023-03-31T00:00:00.000Z)</td><td>List(1102.733154296875, 1110.39111328125, 1110.39111328125)</td></tr><tr><td>M137</td><td>ChronosT5Base</td><td>0.003200353292396803</td><td>List(2023-01-31T00:00:00.000Z, 2023-02-28T00:00:00.000Z, 2023-03-31T00:00:00.000Z)</td><td>List(1120.915283203125, 1120.915283203125, 1120.915283203125)</td></tr><tr><td>M138</td><td>TimesFM_2_0_500m</td><td>0.008204726613146062</td><td>List(2023-01-31T00:00:00.000Z, 2023-02-28T00:00:00.000Z, 2023-03-31T00:00:00.000Z)</td><td>List(846.8909912109375, 855.9586181640625, 863.9197998046875)</td></tr><tr><td>M139</td><td>TimesFM_2_0_500m</td><td>0.0048138945075166546</td><td>List(2023-01-31T00:00:00.000Z, 2023-02-28T00:00:00.000Z, 2023-03-31T00:00:00.000Z)</td><td>List(814.6180419921875, 819.1138305664062, 826.459228515625)</td></tr><tr><td>M14</td><td>ChronosT5Base</td><td>0.008049958256032112</td><td>List(2023-01-31T00:00:00.000Z, 2023-02-28T00:00:00.000Z, 2023-03-31T00:00:00.000Z)</td><td>List(1520.1041259765625, 1524.976318359375, 1539.5926513671875)</td></tr><tr><td>M140</td><td>NeuralForecastAutoNHITS</td><td>0.004849388116578341</td><td>List(2023-01-31T00:00:00.000Z, 2023-02-28T00:00:00.000Z, 2023-03-31T00:00:00.000Z)</td><td>List(658.5521240234375, 661.5003051757812, 663.9383544921875)</td></tr><tr><td>M141</td><td>TimesFM_2_0_500m</td><td>0.07195873531133637</td><td>List(2023-01-31T00:00:00.000Z, 2023-02-28T00:00:00.000Z, 2023-03-31T00:00:00.000Z)</td><td>List(2781.345458984375, 2775.32177734375, 2763.84228515625)</td></tr><tr><td>M142</td><td>TimesFM_2_0_500m</td><td>0.04891750115210251</td><td>List(2023-01-31T00:00:00.000Z, 2023-02-28T00:00:00.000Z, 2023-03-31T00:00:00.000Z)</td><td>List(1143.3145751953125, 1129.273681640625, 1119.8572998046875)</td></tr></tbody></table></div>"
      ]
     },
     "metadata": {
      "application/vnd.databricks.v1+output": {
       "addedWidgets": {},
       "aggData": [],
       "aggError": "",
       "aggOverflow": false,
       "aggSchema": [],
       "aggSeriesLimitReached": false,
       "aggType": "",
       "arguments": {},
       "columnCustomDisplayInfos": {},
       "data": [
        [
         "M1",
         "SKTimeProphet",
         0.06490791621598554,
         [
          "2023-01-31T00:00:00.000Z",
          "2023-02-28T00:00:00.000Z",
          "2023-03-31T00:00:00.000Z"
         ],
         [
          8506.685254588756,
          8580.63398046615,
          9147.60523439392
         ]
        ],
        [
         "M10",
         "StatsForecastBaselineSeasonalNaive",
         0.04339194407979583,
         [
          "2023-01-31T00:00:00.000Z",
          "2023-02-28T00:00:00.000Z",
          "2023-03-31T00:00:00.000Z"
         ],
         [
          12470.0,
          11290.0,
          13770.0
         ]
        ],
        [
         "M100",
         "NeuralForecastAutoRNN",
         0.003361166027924088,
         [
          "2023-01-31T00:00:00.000Z",
          "2023-02-28T00:00:00.000Z",
          "2023-03-31T00:00:00.000Z"
         ],
         [
          975.5025634765625,
          977.2259521484375,
          984.3120727539062
         ]
        ],
        [
         "M1000",
         "ChronosBoltSmall",
         0.11538662297873889,
         [
          "2023-01-31T00:00:00.000Z",
          "2023-02-28T00:00:00.000Z",
          "2023-03-31T00:00:00.000Z"
         ],
         [
          1964.634033203125,
          2018.71484375,
          2090.822509765625
         ]
        ],
        [
         "M101",
         "ChronosBoltBase",
         0.013454114391219879,
         [
          "2023-01-31T00:00:00.000Z",
          "2023-02-28T00:00:00.000Z",
          "2023-03-31T00:00:00.000Z"
         ],
         [
          1018.5897216796875,
          1030.1912841796875,
          1039.8592529296875
         ]
        ],
        [
         "M102",
         "ChronosBoltTiny",
         0.07223508789932025,
         [
          "2023-01-31T00:00:00.000Z",
          "2023-02-28T00:00:00.000Z",
          "2023-03-31T00:00:00.000Z"
         ],
         [
          3884.66455078125,
          3850.48583984375,
          3961.566650390625
         ]
        ],
        [
         "M103",
         "SKTimeProphet",
         0.10569316627683198,
         [
          "2023-01-31T00:00:00.000Z",
          "2023-02-28T00:00:00.000Z",
          "2023-03-31T00:00:00.000Z"
         ],
         [
          2980.6363576639333,
          3046.3657733351747,
          3228.674089325179
         ]
        ],
        [
         "M104",
         "StatsForecastAutoArima",
         0.009504299806688151,
         [
          "2023-01-31T00:00:00.000Z",
          "2023-02-28T00:00:00.000Z",
          "2023-03-31T00:00:00.000Z"
         ],
         [
          1511.525423699008,
          1520.0508473980158,
          1528.576271097024
         ]
        ],
        [
         "M105",
         "TimesFM_1_0_200m",
         0.013692023869182399,
         [
          "2023-01-31T00:00:00.000Z",
          "2023-02-28T00:00:00.000Z",
          "2023-03-31T00:00:00.000Z"
         ],
         [
          1182.31396484375,
          1180.02099609375,
          1175.67626953125
         ]
        ],
        [
         "M106",
         "StatsForecastAutoTbats",
         0.0024280608889585367,
         [
          "2023-01-31T00:00:00.000Z",
          "2023-02-28T00:00:00.000Z",
          "2023-03-31T00:00:00.000Z"
         ],
         [
          1184.8633591095631,
          1185.1029801401032,
          1184.6267398983614
         ]
        ],
        [
         "M107",
         "SKTimeProphet",
         0.007321004888897448,
         [
          "2023-01-31T00:00:00.000Z",
          "2023-02-28T00:00:00.000Z",
          "2023-03-31T00:00:00.000Z"
         ],
         [
          1257.8375618549119,
          1265.1674119525064,
          1272.7254883411495
         ]
        ],
        [
         "M108",
         "StatsForecastAutoTbats",
         0.011276758581443294,
         [
          "2023-01-31T00:00:00.000Z",
          "2023-02-28T00:00:00.000Z",
          "2023-03-31T00:00:00.000Z"
         ],
         [
          1445.2872501338954,
          1455.8238282891946,
          1469.5468241037602
         ]
        ],
        [
         "M109",
         "MoiraiBase",
         0.003095239352774751,
         [
          "2023-01-31T00:00:00.000Z",
          "2023-02-28T00:00:00.000Z",
          "2023-03-31T00:00:00.000Z"
         ],
         [
          9058.81640625,
          9067.689453125,
          9098.421875
         ]
        ],
        [
         "M11",
         "ChronosT5Base",
         0.012874705400831127,
         [
          "2023-01-31T00:00:00.000Z",
          "2023-02-28T00:00:00.000Z",
          "2023-03-31T00:00:00.000Z"
         ],
         [
          5233.0517578125,
          5313.80859375,
          5329.9599609375
         ]
        ],
        [
         "M110",
         "NeuralForecastNBEATSx",
         0.021986611845398456,
         [
          "2023-01-31T00:00:00.000Z",
          "2023-02-28T00:00:00.000Z",
          "2023-03-31T00:00:00.000Z"
         ],
         [
          1878.12109375,
          1881.9256591796875,
          1885.339111328125
         ]
        ],
        [
         "M111",
         "ChronosT5Large",
         0.008228937933642518,
         [
          "2023-01-31T00:00:00.000Z",
          "2023-02-28T00:00:00.000Z",
          "2023-03-31T00:00:00.000Z"
         ],
         [
          1335.3995361328125,
          1335.3995361328125,
          1335.3995361328125
         ]
        ],
        [
         "M112",
         "SKTimeProphet",
         0.008321367486261552,
         [
          "2023-01-31T00:00:00.000Z",
          "2023-02-28T00:00:00.000Z",
          "2023-03-31T00:00:00.000Z"
         ],
         [
          1439.2967215201604,
          1484.8072952210798,
          1486.956563434068
         ]
        ],
        [
         "M113",
         "SKTimeProphet",
         0.007107002350527511,
         [
          "2023-01-31T00:00:00.000Z",
          "2023-02-28T00:00:00.000Z",
          "2023-03-31T00:00:00.000Z"
         ],
         [
          1266.9751765443373,
          1273.0992205368175,
          1278.0767108152393
         ]
        ],
        [
         "M114",
         "TimesFM_2_0_500m",
         0.012843993024744715,
         [
          "2023-01-31T00:00:00.000Z",
          "2023-02-28T00:00:00.000Z",
          "2023-03-31T00:00:00.000Z"
         ],
         [
          514.6016235351562,
          516.850341796875,
          518.7313232421875
         ]
        ],
        [
         "M115",
         "StatsForecastAutoArima",
         0.039733702066479325,
         [
          "2023-01-31T00:00:00.000Z",
          "2023-02-28T00:00:00.000Z",
          "2023-03-31T00:00:00.000Z"
         ],
         [
          1122.8775080777261,
          1128.3665480778532,
          1133.8555880779804
         ]
        ],
        [
         "M116",
         "StatsForecastTSB",
         0.0068276392243249075,
         [
          "2023-01-31T00:00:00.000Z",
          "2023-02-28T00:00:00.000Z",
          "2023-03-31T00:00:00.000Z"
         ],
         [
          1034.3411212619799,
          1034.3411212619799,
          1034.3411212619799
         ]
        ],
        [
         "M117",
         "ChronosT5Base",
         0.0081656076264011,
         [
          "2023-01-31T00:00:00.000Z",
          "2023-02-28T00:00:00.000Z",
          "2023-03-31T00:00:00.000Z"
         ],
         [
          2477.43896484375,
          2460.9775390625,
          2469.208251953125
         ]
        ],
        [
         "M118",
         "StatsForecastAutoArima",
         0.00912437769272909,
         [
          "2023-01-31T00:00:00.000Z",
          "2023-02-28T00:00:00.000Z",
          "2023-03-31T00:00:00.000Z"
         ],
         [
          3170.0,
          3170.0,
          3170.0
         ]
        ],
        [
         "M119",
         "StatsForecastAutoArima",
         0.014751264333460168,
         [
          "2023-01-31T00:00:00.000Z",
          "2023-02-28T00:00:00.000Z",
          "2023-03-31T00:00:00.000Z"
         ],
         [
          3255.9169939119856,
          3254.249900040509,
          3253.569224597856
         ]
        ],
        [
         "M12",
         "NeuralForecastAutoPatchTST",
         0.02483766890898257,
         [
          "2023-01-31T00:00:00.000Z",
          "2023-02-28T00:00:00.000Z",
          "2023-03-31T00:00:00.000Z"
         ],
         [
          3304.849853515625,
          3370.30078125,
          3440.117431640625
         ]
        ],
        [
         "M120",
         "StatsForecastBaselineNaive",
         0.013757615565670714,
         [
          "2023-01-31T00:00:00.000Z",
          "2023-02-28T00:00:00.000Z",
          "2023-03-31T00:00:00.000Z"
         ],
         [
          432.0,
          432.0,
          432.0
         ]
        ],
        [
         "M121",
         "StatsForecastAutoArima",
         0.014873799206373262,
         [
          "2023-01-31T00:00:00.000Z",
          "2023-02-28T00:00:00.000Z",
          "2023-03-31T00:00:00.000Z"
         ],
         [
          3216.2554824193676,
          3214.8533412282013,
          3214.3283069941162
         ]
        ],
        [
         "M122",
         "NeuralForecastNHITS",
         0.04175602476456805,
         [
          "2023-01-31T00:00:00.000Z",
          "2023-02-28T00:00:00.000Z",
          "2023-03-31T00:00:00.000Z"
         ],
         [
          3571.5634765625,
          3595.45947265625,
          3607.5751953125
         ]
        ],
        [
         "M123",
         "ChronosBoltTiny",
         0.17665903071419858,
         [
          "2023-01-31T00:00:00.000Z",
          "2023-02-28T00:00:00.000Z",
          "2023-03-31T00:00:00.000Z"
         ],
         [
          3548.6650390625,
          3586.922119140625,
          3606.05078125
         ]
        ],
        [
         "M124",
         "MoiraiMoEBase",
         0.34271695110317796,
         [
          "2023-01-31T00:00:00.000Z",
          "2023-02-28T00:00:00.000Z",
          "2023-03-31T00:00:00.000Z"
         ],
         [
          5044.076171875,
          3773.081298828125,
          4139.33447265625
         ]
        ],
        [
         "M125",
         "ChronosBoltMini",
         0.04136058502505112,
         [
          "2023-01-31T00:00:00.000Z",
          "2023-02-28T00:00:00.000Z",
          "2023-03-31T00:00:00.000Z"
         ],
         [
          3545.72119140625,
          3612.509521484375,
          3668.16650390625
         ]
        ],
        [
         "M126",
         "TimesFM_2_0_500m",
         0.06976165195591019,
         [
          "2023-01-31T00:00:00.000Z",
          "2023-02-28T00:00:00.000Z",
          "2023-03-31T00:00:00.000Z"
         ],
         [
          1301.4544677734375,
          1296.9415283203125,
          1331.1451416015625
         ]
        ],
        [
         "M127",
         "StatsForecastCrostonClassic",
         0.03962076530263412,
         [
          "2023-01-31T00:00:00.000Z",
          "2023-02-28T00:00:00.000Z",
          "2023-03-31T00:00:00.000Z"
         ],
         [
          1121.7515479775957,
          1121.7515479775957,
          1121.7515479775957
         ]
        ],
        [
         "M128",
         "NeuralForecastAutoRNN",
         0.07543202881955573,
         [
          "2023-01-31T00:00:00.000Z",
          "2023-02-28T00:00:00.000Z",
          "2023-03-31T00:00:00.000Z"
         ],
         [
          1422.169921875,
          1296.4342041015625,
          1405.37841796875
         ]
        ],
        [
         "M129",
         "NeuralForecastAutoRNN",
         0.10756956725431603,
         [
          "2023-01-31T00:00:00.000Z",
          "2023-02-28T00:00:00.000Z",
          "2023-03-31T00:00:00.000Z"
         ],
         [
          1510.383056640625,
          1341.1236572265625,
          1482.916259765625
         ]
        ],
        [
         "M13",
         "NeuralForecastAutoNBEATSx",
         0.02438940619257639,
         [
          "2023-01-31T00:00:00.000Z",
          "2023-02-28T00:00:00.000Z",
          "2023-03-31T00:00:00.000Z"
         ],
         [
          2615.721435546875,
          2614.212158203125,
          2613.321533203125
         ]
        ],
        [
         "M130",
         "StatsForecastCrostonSBA",
         0.04738054229309461,
         [
          "2023-01-31T00:00:00.000Z",
          "2023-02-28T00:00:00.000Z",
          "2023-03-31T00:00:00.000Z"
         ],
         [
          1570.763552850153,
          1570.763552850153,
          1570.763552850153
         ]
        ],
        [
         "M131",
         "StatsForecastAutoArima",
         0.01210046966300258,
         [
          "2023-01-31T00:00:00.000Z",
          "2023-02-28T00:00:00.000Z",
          "2023-03-31T00:00:00.000Z"
         ],
         [
          1327.457627118644,
          1332.915254237288,
          1338.3728813559323
         ]
        ],
        [
         "M132",
         "NeuralForecastNHITS",
         0.03505339173827288,
         [
          "2023-01-31T00:00:00.000Z",
          "2023-02-28T00:00:00.000Z",
          "2023-03-31T00:00:00.000Z"
         ],
         [
          1187.06787109375,
          1182.4725341796875,
          1171.791259765625
         ]
        ],
        [
         "M133",
         "ChronosBoltMini",
         0.012974259436278595,
         [
          "2023-01-31T00:00:00.000Z",
          "2023-02-28T00:00:00.000Z",
          "2023-03-31T00:00:00.000Z"
         ],
         [
          1281.46533203125,
          1273.5537109375,
          1270.1630859375
         ]
        ],
        [
         "M134",
         "TimesFM_2_0_500m",
         0.013946841887419941,
         [
          "2023-01-31T00:00:00.000Z",
          "2023-02-28T00:00:00.000Z",
          "2023-03-31T00:00:00.000Z"
         ],
         [
          1158.5333251953125,
          1108.5654296875,
          1086.176025390625
         ]
        ],
        [
         "M135",
         "StatsForecastAutoTheta",
         0.0027609372790956795,
         [
          "2023-01-31T00:00:00.000Z",
          "2023-02-28T00:00:00.000Z",
          "2023-03-31T00:00:00.000Z"
         ],
         [
          1044.5386962890625,
          1044.937255859375,
          1045.3358154296875
         ]
        ],
        [
         "M136",
         "ChronosT5Large",
         0.0069459026417183324,
         [
          "2023-01-31T00:00:00.000Z",
          "2023-02-28T00:00:00.000Z",
          "2023-03-31T00:00:00.000Z"
         ],
         [
          1102.733154296875,
          1110.39111328125,
          1110.39111328125
         ]
        ],
        [
         "M137",
         "ChronosT5Base",
         0.003200353292396803,
         [
          "2023-01-31T00:00:00.000Z",
          "2023-02-28T00:00:00.000Z",
          "2023-03-31T00:00:00.000Z"
         ],
         [
          1120.915283203125,
          1120.915283203125,
          1120.915283203125
         ]
        ],
        [
         "M138",
         "TimesFM_2_0_500m",
         0.008204726613146062,
         [
          "2023-01-31T00:00:00.000Z",
          "2023-02-28T00:00:00.000Z",
          "2023-03-31T00:00:00.000Z"
         ],
         [
          846.8909912109375,
          855.9586181640625,
          863.9197998046875
         ]
        ],
        [
         "M139",
         "TimesFM_2_0_500m",
         0.0048138945075166546,
         [
          "2023-01-31T00:00:00.000Z",
          "2023-02-28T00:00:00.000Z",
          "2023-03-31T00:00:00.000Z"
         ],
         [
          814.6180419921875,
          819.1138305664062,
          826.459228515625
         ]
        ],
        [
         "M14",
         "ChronosT5Base",
         0.008049958256032112,
         [
          "2023-01-31T00:00:00.000Z",
          "2023-02-28T00:00:00.000Z",
          "2023-03-31T00:00:00.000Z"
         ],
         [
          1520.1041259765625,
          1524.976318359375,
          1539.5926513671875
         ]
        ],
        [
         "M140",
         "NeuralForecastAutoNHITS",
         0.004849388116578341,
         [
          "2023-01-31T00:00:00.000Z",
          "2023-02-28T00:00:00.000Z",
          "2023-03-31T00:00:00.000Z"
         ],
         [
          658.5521240234375,
          661.5003051757812,
          663.9383544921875
         ]
        ],
        [
         "M141",
         "TimesFM_2_0_500m",
         0.07195873531133637,
         [
          "2023-01-31T00:00:00.000Z",
          "2023-02-28T00:00:00.000Z",
          "2023-03-31T00:00:00.000Z"
         ],
         [
          2781.345458984375,
          2775.32177734375,
          2763.84228515625
         ]
        ],
        [
         "M142",
         "TimesFM_2_0_500m",
         0.04891750115210251,
         [
          "2023-01-31T00:00:00.000Z",
          "2023-02-28T00:00:00.000Z",
          "2023-03-31T00:00:00.000Z"
         ],
         [
          1143.3145751953125,
          1129.273681640625,
          1119.8572998046875
         ]
        ]
       ],
       "datasetInfos": [],
       "dbfsResultPath": null,
       "isJsonSchema": true,
       "metadata": {},
       "overflow": false,
       "plotOptions": {
        "customPlotOptions": {},
        "displayType": "table",
        "pivotAggregation": null,
        "pivotColumns": null,
        "xColumns": null,
        "yColumns": null
       },
       "removedWidgets": [],
       "schema": [
        {
         "metadata": "{}",
         "name": "unique_id",
         "type": "\"string\""
        },
        {
         "metadata": "{}",
         "name": "model",
         "type": "\"string\""
        },
        {
         "metadata": "{}",
         "name": "average_smape",
         "type": "\"double\""
        },
        {
         "metadata": "{}",
         "name": "date",
         "type": "{\"containsNull\":true,\"elementType\":\"timestamp\",\"type\":\"array\"}"
        },
        {
         "metadata": "{}",
         "name": "y",
         "type": "{\"containsNull\":true,\"elementType\":\"double\",\"type\":\"array\"}"
        }
       ],
       "type": "table"
      }
     },
     "output_type": "display_data"
    }
   ],
   "source": [
    "forecast_best_model = spark.sql(f\"\"\"\n",
    "    SELECT eval.unique_id, eval.model, eval.average_smape, score.date, score.y\n",
    "    FROM \n",
    "    (\n",
    "      SELECT unique_id, model, average_smape,\n",
    "      RANK() OVER (PARTITION BY unique_id ORDER BY average_smape ASC) AS rank\n",
    "      FROM (\n",
    "        SELECT unique_id, model, AVG(metric_value) AS average_smape\n",
    "        FROM {catalog}.{db}.monthly_evaluation_output\n",
    "        GROUP BY unique_id, model) \n",
    "        ORDER BY unique_id, rank\n",
    "    ) AS eval\n",
    "    INNER JOIN {catalog}.{db}.monthly_scoring_output AS score \n",
    "      ON eval.unique_id=score.unique_id AND eval.model=score.model\n",
    "    WHERE eval.rank=1\n",
    "    ORDER BY eval.unique_id\n",
    "    LIMIT 50\n",
    "    \"\"\")\n",
    "\n",
    "display(forecast_best_model)"
   ]
  },
  {
   "cell_type": "markdown",
   "metadata": {
    "application/vnd.databricks.v1+cell": {
     "cellMetadata": {
      "byteLimit": 2048000,
      "rowLimit": 10000
     },
     "inputWidgets": {},
     "nuid": "bdc7d8c6-0410-43f7-8f85-6901d986ebf4",
     "showTitle": false,
     "tableResultSettingsMap": {},
     "title": ""
    }
   },
   "source": [
    "These forecasts will be used to guide our business decisions. Let's count how many times each model was the best-performing one."
   ]
  },
  {
   "cell_type": "code",
   "execution_count": 0,
   "metadata": {
    "application/vnd.databricks.v1+cell": {
     "cellMetadata": {
      "byteLimit": 2048000,
      "rowLimit": 10000
     },
     "inputWidgets": {},
     "nuid": "4f94dc20-e26f-4906-9f9c-635c73181038",
     "showTitle": false,
     "tableResultSettingsMap": {
      "0": {
       "dataGridStateBlob": "{\"version\":1,\"tableState\":{\"columnPinning\":{\"left\":[\"#row_number#\"],\"right\":[]},\"columnSizing\":{\"count\":103},\"columnVisibility\":{}},\"settings\":{\"columns\":{}},\"syncTimestamp\":1753270002935}",
       "filterBlob": null,
       "queryPlanFiltersBlob": null,
       "tableResultIndex": 0
      }
     },
     "title": ""
    }
   },
   "outputs": [
    {
     "output_type": "display_data",
     "data": {
      "text/html": [
       "<style scoped>\n",
       "  .table-result-container {\n",
       "    max-height: 300px;\n",
       "    overflow: auto;\n",
       "  }\n",
       "  table, th, td {\n",
       "    border: 1px solid black;\n",
       "    border-collapse: collapse;\n",
       "  }\n",
       "  th, td {\n",
       "    padding: 5px;\n",
       "  }\n",
       "  th {\n",
       "    text-align: left;\n",
       "  }\n",
       "</style><div class='table-result-container'><table class='table-result'><thead style='background-color: white'><tr><th>model</th><th>count</th></tr></thead><tbody><tr><td>SKTimeProphet</td><td>150</td></tr><tr><td>TimesFM_2_0_500m</td><td>143</td></tr><tr><td>TimesFM_1_0_200m</td><td>92</td></tr><tr><td>NeuralForecastAutoRNN</td><td>53</td></tr><tr><td>ChronosT5Large</td><td>41</td></tr><tr><td>ChronosT5Base</td><td>39</td></tr><tr><td>StatsForecastBaselineNaive</td><td>36</td></tr><tr><td>StatsForecastAutoArima</td><td>31</td></tr><tr><td>ChronosBoltBase</td><td>25</td></tr><tr><td>NeuralForecastAutoNHITS</td><td>24</td></tr><tr><td>ChronosBoltTiny</td><td>22</td></tr><tr><td>StatsForecastAutoTbats</td><td>22</td></tr><tr><td>ChronosT5Tiny</td><td>20</td></tr><tr><td>StatsForecastAutoTheta</td><td>20</td></tr><tr><td>StatsForecastCrostonClassic</td><td>20</td></tr><tr><td>StatsForecastBaselineWindowAverage</td><td>19</td></tr><tr><td>ChronosBoltSmall</td><td>18</td></tr><tr><td>ChronosT5Mini</td><td>17</td></tr><tr><td>ChronosBoltMini</td><td>17</td></tr><tr><td>StatsForecastAutoCES</td><td>17</td></tr><tr><td>NeuralForecastAutoLSTM</td><td>17</td></tr><tr><td>NeuralForecastNHITS</td><td>16</td></tr><tr><td>StatsForecastAutoMfles</td><td>15</td></tr><tr><td>ChronosT5Small</td><td>13</td></tr><tr><td>StatsForecastTSB</td><td>12</td></tr><tr><td>StatsForecastBaselineSeasonalNaive</td><td>11</td></tr><tr><td>MoiraiMoESmall</td><td>11</td></tr><tr><td>NeuralForecastAutoNBEATSx</td><td>10</td></tr><tr><td>NeuralForecastAutoPatchTST</td><td>10</td></tr><tr><td>NeuralForecastNBEATSx</td><td>9</td></tr><tr><td>StatsForecastCrostonSBA</td><td>9</td></tr><tr><td>MoiraiSmall</td><td>9</td></tr><tr><td>MoiraiLarge</td><td>9</td></tr><tr><td>NeuralForecastLSTM</td><td>8</td></tr><tr><td>StatsForecastAutoETS</td><td>8</td></tr><tr><td>MoiraiMoEBase</td><td>8</td></tr><tr><td>StatsForecastADIDA</td><td>6</td></tr><tr><td>StatsForecastCrostonOptimized</td><td>6</td></tr><tr><td>MoiraiBase</td><td>6</td></tr><tr><td>StatsForecastIMAPA</td><td>6</td></tr><tr><td>NeuralForecastAutoTiDE</td><td>3</td></tr><tr><td>NeuralForecastRNN</td><td>2</td></tr></tbody></table></div>"
      ]
     },
     "metadata": {
      "application/vnd.databricks.v1+output": {
       "addedWidgets": {},
       "aggData": [],
       "aggError": "",
       "aggOverflow": false,
       "aggSchema": [],
       "aggSeriesLimitReached": false,
       "aggType": "",
       "arguments": {},
       "columnCustomDisplayInfos": {},
       "data": [
        [
         "SKTimeProphet",
         150
        ],
        [
         "TimesFM_2_0_500m",
         143
        ],
        [
         "TimesFM_1_0_200m",
         92
        ],
        [
         "NeuralForecastAutoRNN",
         53
        ],
        [
         "ChronosT5Large",
         41
        ],
        [
         "ChronosT5Base",
         39
        ],
        [
         "StatsForecastBaselineNaive",
         36
        ],
        [
         "StatsForecastAutoArima",
         31
        ],
        [
         "ChronosBoltBase",
         25
        ],
        [
         "NeuralForecastAutoNHITS",
         24
        ],
        [
         "ChronosBoltTiny",
         22
        ],
        [
         "StatsForecastAutoTbats",
         22
        ],
        [
         "ChronosT5Tiny",
         20
        ],
        [
         "StatsForecastAutoTheta",
         20
        ],
        [
         "StatsForecastCrostonClassic",
         20
        ],
        [
         "StatsForecastBaselineWindowAverage",
         19
        ],
        [
         "ChronosBoltSmall",
         18
        ],
        [
         "ChronosT5Mini",
         17
        ],
        [
         "ChronosBoltMini",
         17
        ],
        [
         "StatsForecastAutoCES",
         17
        ],
        [
         "NeuralForecastAutoLSTM",
         17
        ],
        [
         "NeuralForecastNHITS",
         16
        ],
        [
         "StatsForecastAutoMfles",
         15
        ],
        [
         "ChronosT5Small",
         13
        ],
        [
         "StatsForecastTSB",
         12
        ],
        [
         "StatsForecastBaselineSeasonalNaive",
         11
        ],
        [
         "MoiraiMoESmall",
         11
        ],
        [
         "NeuralForecastAutoNBEATSx",
         10
        ],
        [
         "NeuralForecastAutoPatchTST",
         10
        ],
        [
         "NeuralForecastNBEATSx",
         9
        ],
        [
         "StatsForecastCrostonSBA",
         9
        ],
        [
         "MoiraiSmall",
         9
        ],
        [
         "MoiraiLarge",
         9
        ],
        [
         "NeuralForecastLSTM",
         8
        ],
        [
         "StatsForecastAutoETS",
         8
        ],
        [
         "MoiraiMoEBase",
         8
        ],
        [
         "StatsForecastADIDA",
         6
        ],
        [
         "StatsForecastCrostonOptimized",
         6
        ],
        [
         "MoiraiBase",
         6
        ],
        [
         "StatsForecastIMAPA",
         6
        ],
        [
         "NeuralForecastAutoTiDE",
         3
        ],
        [
         "NeuralForecastRNN",
         2
        ]
       ],
       "datasetInfos": [],
       "dbfsResultPath": null,
       "isJsonSchema": true,
       "metadata": {},
       "overflow": false,
       "plotOptions": {
        "customPlotOptions": {},
        "displayType": "table",
        "pivotAggregation": null,
        "pivotColumns": null,
        "xColumns": null,
        "yColumns": null
       },
       "removedWidgets": [],
       "schema": [
        {
         "metadata": "{}",
         "name": "model",
         "type": "\"string\""
        },
        {
         "metadata": "{}",
         "name": "count",
         "type": "\"long\""
        }
       ],
       "type": "table"
      }
     },
     "output_type": "display_data"
    }
   ],
   "source": [
    "model_ranking = spark.sql(f\"\"\"\n",
    "    SELECT model, count(*) as count\n",
    "    FROM (\n",
    "      SELECT unique_id, model, average_smape,\n",
    "      RANK() OVER (PARTITION BY unique_id ORDER BY average_smape ASC) AS rank\n",
    "      FROM (\n",
    "        SELECT unique_id, model, AVG(metric_value) AS average_smape\n",
    "        FROM {catalog}.{db}.monthly_evaluation_output\n",
    "        GROUP BY unique_id, model) \n",
    "        ORDER BY unique_id, rank\n",
    "    ) WHERE rank=1 GROUP BY model \n",
    "    ORDER BY count DESC\n",
    "    \"\"\")\n",
    "\n",
    "display(model_ranking)"
   ]
  },
  {
   "cell_type": "markdown",
   "metadata": {
    "application/vnd.databricks.v1+cell": {
     "cellMetadata": {
      "byteLimit": 2048000,
      "rowLimit": 10000
     },
     "inputWidgets": {},
     "nuid": "183eb27a-a19a-4967-aa65-26b6f5e8ce11",
     "showTitle": false,
     "tableResultSettingsMap": {},
     "title": ""
    }
   },
   "source": [
    "\n",
    "On this dataset (M4 monthly), it appears that TimesFM models were the best performing models based on the number of time series they excelled in.\n",
    "\n",
    "Exposing the `evaluation_output` and `forecast_output` tables in these formats provides great flexibility in model selection. For example, you can define your own evaluation metric to compare forecasting accuracy. You can aggregate metrics using a weighted average or even the median across backtesting trials. Additionally, you can retrieve forecasts from multiple models for each time series and ensemble them. All of these options simply require writing queries against these tables."
   ]
  }
 ],
 "metadata": {
  "application/vnd.databricks.v1+notebook": {
   "computePreferences": null,
   "dashboards": [],
   "environmentMetadata": {
    "base_environment": "",
    "environment_version": "2"
   },
   "inputWidgetPreferences": null,
   "language": "python",
   "notebookMetadata": {
    "mostRecentlyExecutedCommandWithImplicitDF": {
     "commandId": -1,
     "dataframes": [
      "_sqldf"
     ]
    },
    "pythonIndentUnit": 2
   },
   "notebookName": "post-evaluation-analysis",
   "widgets": {}
  },
  "language_info": {
   "name": "python"
  }
 },
 "nbformat": 4,
 "nbformat_minor": 0
}
