{
 "cells": [
  {
   "cell_type": "code",
   "execution_count": 0,
   "metadata": {
    "application/vnd.databricks.v1+cell": {
     "cellMetadata": {},
     "inputWidgets": {},
     "nuid": "6b0cd75d-fefb-49fb-8534-a5ba2f3b4d73",
     "showTitle": false,
     "tableResultSettingsMap": {},
     "title": ""
    }
   },
   "outputs": [],
   "source": [
    "dbutils.widgets.text(\"catalog\", \"\")\n",
    "dbutils.widgets.text(\"db\", \"\")\n",
    "dbutils.widgets.text(\"model\", \"\")\n",
    "dbutils.widgets.text(\"run_id\", \"\")\n",
    "dbutils.widgets.text(\"user\", \"\")"
   ]
  },
  {
   "cell_type": "code",
   "execution_count": 0,
   "metadata": {
    "application/vnd.databricks.v1+cell": {
     "cellMetadata": {},
     "inputWidgets": {},
     "nuid": "7bec0a0d-3fad-44a4-a05c-4370ca18ef2f",
     "showTitle": false,
     "tableResultSettingsMap": {},
     "title": ""
    }
   },
   "outputs": [],
   "source": [
    "model_class = \"global\" if \"NeuralForecast\" in dbutils.widgets.get(\"model\") else \"foundation\" \n",
    "%pip install -r ../requirements-{model_class}.txt --quiet\n",
    "dbutils.library.restartPython()"
   ]
  },
  {
   "cell_type": "code",
   "execution_count": 0,
   "metadata": {
    "application/vnd.databricks.v1+cell": {
     "cellMetadata": {},
     "inputWidgets": {},
     "nuid": "6072a35a-c9c3-4e21-b071-a131d25a3e5d",
     "showTitle": false,
     "tableResultSettingsMap": {},
     "title": ""
    }
   },
   "outputs": [],
   "source": [
    "catalog = dbutils.widgets.get(\"catalog\")\n",
    "db = dbutils.widgets.get(\"db\")\n",
    "model = dbutils.widgets.get(\"model\")\n",
    "run_id = dbutils.widgets.get(\"run_id\")\n",
    "user = dbutils.widgets.get(\"user\")"
   ]
  },
  {
   "cell_type": "code",
   "execution_count": 0,
   "metadata": {
    "application/vnd.databricks.v1+cell": {
     "cellMetadata": {},
     "inputWidgets": {},
     "nuid": "70a978dc-cedc-4bfa-b6c1-1794b706eca1",
     "showTitle": false,
     "tableResultSettingsMap": {},
     "title": ""
    }
   },
   "outputs": [],
   "source": [
    "from mmf_sa import run_forecast\n",
    "import logging\n",
    "logging.getLogger(\"py4j.java_gateway\").setLevel(logging.ERROR)\n",
    "logging.getLogger(\"py4j.clientserver\").setLevel(logging.ERROR)\n",
    "\n",
    "\n",
    "run_forecast(\n",
    "    spark=spark,\n",
    "    train_data=f\"{catalog}.{db}.m4_daily_train\",\n",
    "    scoring_data=f\"{catalog}.{db}.m4_daily_train\",\n",
    "    scoring_output=f\"{catalog}.{db}.daily_scoring_output\",\n",
    "    evaluation_output=f\"{catalog}.{db}.daily_evaluation_output\",\n",
    "    model_output=f\"{catalog}.{db}\",\n",
    "    group_id=\"unique_id\",\n",
    "    date_col=\"ds\",\n",
    "    target=\"y\",\n",
    "    freq=\"D\",\n",
    "    prediction_length=10,\n",
    "    backtest_length=30,\n",
    "    stride=10,\n",
    "    metric=\"smape\",\n",
    "    train_predict_ratio=1,\n",
    "    data_quality_check=True,\n",
    "    resample=False,\n",
    "    active_models=[model],\n",
    "    experiment_path=f\"/Users/{user}/mmf/m4_daily\",\n",
    "    use_case_name=\"m4_daily\",\n",
    "    run_id=run_id,\n",
    "    accelerator=\"gpu\",\n",
    ")"
   ]
  }
 ],
 "metadata": {
  "application/vnd.databricks.v1+notebook": {
   "computePreferences": null,
   "dashboards": [],
   "environmentMetadata": null,
   "inputWidgetPreferences": null,
   "language": "python",
   "notebookMetadata": {
    "pythonIndentUnit": 2
   },
   "notebookName": "run_daily",
   "widgets": {}
  },
  "language_info": {
   "name": "python"
  }
 },
 "nbformat": 4,
 "nbformat_minor": 0
}
