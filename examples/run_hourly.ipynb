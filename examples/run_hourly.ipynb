{
 "cells": [
  {
   "cell_type": "code",
   "execution_count": 0,
   "metadata": {
    "application/vnd.databricks.v1+cell": {
     "cellMetadata": {},
     "inputWidgets": {},
     "nuid": "60f747f4-6b3e-47bf-b257-593e8b3b4d8e",
     "showTitle": false,
     "tableResultSettingsMap": {},
     "title": ""
    }
   },
   "outputs": [],
   "source": [
    "dbutils.widgets.text(\"catalog\", \"\")\n",
    "dbutils.widgets.text(\"db\", \"\")\n",
    "dbutils.widgets.text(\"model\", \"\")\n",
    "dbutils.widgets.text(\"run_id\", \"\")\n",
    "dbutils.widgets.text(\"user\", \"\")"
   ]
  },
  {
   "cell_type": "code",
   "execution_count": 0,
   "metadata": {
    "application/vnd.databricks.v1+cell": {
     "cellMetadata": {},
     "inputWidgets": {},
     "nuid": "3dacaf34-b9a8-4bc3-940f-2d0b0c92e711",
     "showTitle": false,
     "tableResultSettingsMap": {},
     "title": ""
    }
   },
   "outputs": [],
   "source": [
    "model_class = \"global\" if \"NeuralForecast\" in dbutils.widgets.get(\"model\") else \"foundation\" \n",
    "%pip install -r ../requirements-{model_class}.txt --quiet\n",
    "dbutils.library.restartPython()"
   ]
  },
  {
   "cell_type": "code",
   "execution_count": 0,
   "metadata": {
    "application/vnd.databricks.v1+cell": {
     "cellMetadata": {},
     "inputWidgets": {},
     "nuid": "a77cbf98-16f3-49d5-b7e9-4740346f5429",
     "showTitle": false,
     "tableResultSettingsMap": {},
     "title": ""
    }
   },
   "outputs": [],
   "source": [
    "catalog = dbutils.widgets.get(\"catalog\")\n",
    "db = dbutils.widgets.get(\"db\")\n",
    "model = dbutils.widgets.get(\"model\")\n",
    "run_id = dbutils.widgets.get(\"run_id\")\n",
    "user = dbutils.widgets.get(\"user\")"
   ]
  },
  {
   "cell_type": "code",
   "execution_count": 0,
   "metadata": {
    "application/vnd.databricks.v1+cell": {
     "cellMetadata": {},
     "inputWidgets": {},
     "nuid": "8b7891dc-17cf-4e9a-8181-5062225ebec3",
     "showTitle": false,
     "tableResultSettingsMap": {},
     "title": ""
    }
   },
   "outputs": [],
   "source": [
    "from mmf_sa import run_forecast\n",
    "import logging\n",
    "logging.getLogger(\"py4j.java_gateway\").setLevel(logging.ERROR)\n",
    "logging.getLogger(\"py4j.clientserver\").setLevel(logging.ERROR)\n",
    "\n",
    "\n",
    "run_forecast(\n",
    "    spark=spark,\n",
    "    train_data=f\"{catalog}.{db}.m4_hourly_train\",\n",
    "    scoring_data=f\"{catalog}.{db}.m4_hourly_train\",\n",
    "    scoring_output=f\"{catalog}.{db}.hourly_scoring_output\",\n",
    "    evaluation_output=f\"{catalog}.{db}.hourly_evaluation_output\",\n",
    "    model_output=f\"{catalog}.{db}\",\n",
    "    group_id=\"unique_id\",\n",
    "    date_col=\"ds\",\n",
    "    target=\"y\",\n",
    "    freq=\"H\",\n",
    "    prediction_length=24,\n",
    "    backtest_length=168,\n",
    "    stride=24,\n",
    "    metric=\"smape\",\n",
    "    train_predict_ratio=1,\n",
    "    data_quality_check=True,\n",
    "    resample=False,\n",
    "    active_models=[model],\n",
    "    experiment_path=f\"/Users/{user}/mmf/m4_hourly\",\n",
    "    use_case_name=\"m4_hourly\",\n",
    "    run_id=run_id,\n",
    "    accelerator=\"gpu\",\n",
    ")"
   ]
  }
 ],
 "metadata": {
  "application/vnd.databricks.v1+notebook": {
   "computePreferences": null,
   "dashboards": [],
   "environmentMetadata": null,
   "inputWidgetPreferences": null,
   "language": "python",
   "notebookMetadata": {
    "pythonIndentUnit": 2
   },
   "notebookName": "run_hourly",
   "widgets": {}
  },
  "language_info": {
   "name": "python"
  }
 },
 "nbformat": 4,
 "nbformat_minor": 0
}
