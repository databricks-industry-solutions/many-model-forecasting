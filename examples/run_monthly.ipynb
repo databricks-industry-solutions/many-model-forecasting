{
 "cells": [
  {
   "cell_type": "code",
   "execution_count": 0,
   "metadata": {
    "application/vnd.databricks.v1+cell": {
     "cellMetadata": {},
     "inputWidgets": {},
     "nuid": "3a85c112-3e52-4a4c-96c8-4f9404b90d0d",
     "showTitle": false,
     "tableResultSettingsMap": {},
     "title": ""
    }
   },
   "outputs": [],
   "source": [
    "dbutils.widgets.text(\"catalog\", \"\")\n",
    "dbutils.widgets.text(\"db\", \"\")\n",
    "dbutils.widgets.text(\"model\", \"\")\n",
    "dbutils.widgets.text(\"run_id\", \"\")\n",
    "dbutils.widgets.text(\"user\", \"\")"
   ]
  },
  {
   "cell_type": "code",
   "execution_count": 0,
   "metadata": {
    "application/vnd.databricks.v1+cell": {
     "cellMetadata": {},
     "inputWidgets": {},
     "nuid": "1989dcd1-f804-4103-b744-16aa0796fbb9",
     "showTitle": false,
     "tableResultSettingsMap": {},
     "title": ""
    }
   },
   "outputs": [],
   "source": [
    "model_class = \"global\" if \"NeuralForecast\" in dbutils.widgets.get(\"model\") else \"foundation\" \n",
    "%pip install -r ../requirements-{model_class}.txt --quiet\n",
    "dbutils.library.restartPython()"
   ]
  },
  {
   "cell_type": "code",
   "execution_count": 0,
   "metadata": {
    "application/vnd.databricks.v1+cell": {
     "cellMetadata": {},
     "inputWidgets": {},
     "nuid": "9bccd9cf-54b1-4092-820d-1a8551cf50e6",
     "showTitle": false,
     "tableResultSettingsMap": {},
     "title": ""
    }
   },
   "outputs": [],
   "source": [
    "catalog = dbutils.widgets.get(\"catalog\")\n",
    "db = dbutils.widgets.get(\"db\")\n",
    "model = dbutils.widgets.get(\"model\")\n",
    "run_id = dbutils.widgets.get(\"run_id\")\n",
    "user = dbutils.widgets.get(\"user\")"
   ]
  },
  {
   "cell_type": "code",
   "execution_count": 0,
   "metadata": {
    "application/vnd.databricks.v1+cell": {
     "cellMetadata": {},
     "inputWidgets": {},
     "nuid": "94a7fad0-fc55-471c-ae96-ea81f7db7041",
     "showTitle": false,
     "tableResultSettingsMap": {},
     "title": ""
    }
   },
   "outputs": [],
   "source": [
    "from mmf_sa import run_forecast\n",
    "import logging\n",
    "logger = spark._jvm.org.apache.log4j\n",
    "logging.getLogger(\"py4j.java_gateway\").setLevel(logging.ERROR)\n",
    "logging.getLogger(\"py4j.clientserver\").setLevel(logging.ERROR)\n",
    "\n",
    "\n",
    "run_forecast(\n",
    "    spark=spark,\n",
    "    train_data=f\"{catalog}.{db}.m4_monthly_train\",\n",
    "    scoring_data=f\"{catalog}.{db}.m4_monthly_train\",\n",
    "    scoring_output=f\"{catalog}.{db}.monthly_scoring_output\",\n",
    "    evaluation_output=f\"{catalog}.{db}.monthly_evaluation_output\",\n",
    "    model_output=f\"{catalog}.{db}\",\n",
    "    group_id=\"unique_id\",\n",
    "    date_col=\"date\",\n",
    "    target=\"y\",\n",
    "    freq=\"M\",\n",
    "    prediction_length=3,\n",
    "    backtest_length=12,\n",
    "    stride=1,\n",
    "    metric=\"smape\",\n",
    "    train_predict_ratio=1,\n",
    "    data_quality_check=True,\n",
    "    resample=False,\n",
    "    active_models=[model],\n",
    "    experiment_path=f\"/Users/{user}/mmf/m4_monthly\",\n",
    "    use_case_name=\"m4_monthly\",\n",
    "    run_id=run_id,\n",
    "    accelerator=\"gpu\",\n",
    ")"
   ]
  }
 ],
 "metadata": {
  "application/vnd.databricks.v1+notebook": {
   "computePreferences": null,
   "dashboards": [],
   "environmentMetadata": null,
   "inputWidgetPreferences": null,
   "language": "python",
   "notebookMetadata": {
    "pythonIndentUnit": 2
   },
   "notebookName": "run_monthly",
   "widgets": {}
  },
  "language_info": {
   "name": "python"
  }
 },
 "nbformat": 4,
 "nbformat_minor": 0
}
